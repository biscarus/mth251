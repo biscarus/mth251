{
 "cells": [
  {
   "cell_type": "code",
   "execution_count": null,
   "id": "liable-circuit",
   "metadata": {},
   "outputs": [],
   "source": [
    "# Q2\n",
    "# print n!, (n-1)!, ..., 1!\n",
    "n = int(input(\"Enter a number: \"))\n",
    "print(n)\n",
    "while(n > 0):\n",
    "    j = n + 1\n",
    "    y = 1\n",
    "    for i in range(1, j):\n",
    "        y = y*i\n",
    "    print(\"{0:d}!: {1:d}\".format(n, y))\n",
    "    n -= 1"
   ]
  },
  {
   "cell_type": "code",
   "execution_count": null,
   "id": "infectious-arrest",
   "metadata": {},
   "outputs": [],
   "source": [
    "# Q2\n",
    "# 7!\n",
    "global result\n",
    "result = 1\n",
    "def fractorial_function(n): \n",
    "    global result\n",
    "    if n == 1:\n",
    "        print(\"The Factorial Function Result:  1\")\n",
    "        return 1\n",
    "    result = n * fractorial_function(n-1)\n",
    "    print(\"The Factorial Function Result: \", result)\n",
    "    return result\n",
    "fractorial_function(7)"
   ]
  },
  {
   "cell_type": "code",
   "execution_count": null,
   "id": "fewer-vatican",
   "metadata": {},
   "outputs": [],
   "source": [
    "# remove duplicate numbers\n",
    "\n",
    "\"\"\"\n",
    "hint: use 2 pointers and update the list directly as we cannot use additional space \n",
    "\n",
    "Time Complexity: O(n)\n",
    "Space Complexity: O(1)\n",
    "\"\"\"\n",
    "def remove_duplicates(nums): \n",
    "    if len(nums) <= 1: \n",
    "        return len(nums), nums\n",
    "    \n",
    "    # c: current index\n",
    "    # n: next index to check \n",
    "    c = 0\n",
    "    for n in range(1, len(nums)): \n",
    "        if (nums[n] != nums[c]):\n",
    "            # increase c\n",
    "            c += 1\n",
    "            nums[c] = nums[n]\n",
    "    return c+1, nums[:c+1]\n",
    "\n",
    "l = [0]\n",
    "print(remove_duplicates(l))\n",
    "l = [1, 1]\n",
    "print(remove_duplicates(l))\n",
    "l = [1,2,2,3,3,3,4,5,5]\n",
    "print(remove_duplicates(l))"
   ]
  }
 ],
 "metadata": {
  "kernelspec": {
   "display_name": "Python 3",
   "language": "python",
   "name": "python3"
  },
  "language_info": {
   "codemirror_mode": {
    "name": "ipython",
    "version": 3
   },
   "file_extension": ".py",
   "mimetype": "text/x-python",
   "name": "python",
   "nbconvert_exporter": "python",
   "pygments_lexer": "ipython3",
   "version": "3.8.5"
  }
 },
 "nbformat": 4,
 "nbformat_minor": 5
}
