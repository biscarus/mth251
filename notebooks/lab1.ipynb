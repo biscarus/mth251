{
 "cells": [
  {
   "cell_type": "markdown",
   "metadata": {},
   "source": [
    "# Python\n",
    "\n",
    "1. Data Type & Operators \n",
    "2. Collections\n",
    "3. Program Structure \n",
    "4. OO\n",
    "5. PEP8\n",
    "\n",
    "Cheatsheet: \n",
    "\n",
    "- 🧾[Python Crash Course - Cheat Sheets](https://github.com/ehmatthes/pcc/releases/download/v1.0.0/beginners_python_cheat_sheet_pcc_all.pdf)  \n",
    "\n",
    "- 🧾[Comprehensive Python Cheatsheet](https://github.com/gto76/python-cheatsheet)  "
   ]
  },
  {
   "cell_type": "markdown",
   "metadata": {},
   "source": [
    "## Data Type & Operators\n",
    "\n",
    "### Number\n",
    "\n",
    "- <kbd>int</kbd> <kbd>float</kbd> <kbd>complex</kbd>  \n",
    "- arithmetic operator: <kbd>+</kbd> <kbd>-</kbd> <kbd>*</kbd> <kbd>/</kbd> <kbd>//</kbd> <kbd>%</kbd> <kbd>**</kbd>\n",
    "- bitwise operator: <kbd>&</kbd> <kbd>|</kbd> <kbd>^</kbd> <kbd>>></kbd> <kbd><<</kbd> <kbd>~</kbd>\n",
    "- <kbd>range()</kbd>: a list of integers"
   ]
  },
  {
   "cell_type": "code",
   "execution_count": null,
   "metadata": {
    "scrolled": true
   },
   "outputs": [],
   "source": [
    "n = 10\n",
    "print(n)\n",
    "type(n)"
   ]
  },
  {
   "cell_type": "code",
   "execution_count": null,
   "metadata": {},
   "outputs": [],
   "source": [
    "n = 1 + 2\n",
    "print(n)\n",
    "type(n)"
   ]
  },
  {
   "cell_type": "code",
   "execution_count": null,
   "metadata": {},
   "outputs": [],
   "source": [
    "n = 0.1\n",
    "type(n)\n",
    "type(0.1)"
   ]
  },
  {
   "cell_type": "code",
   "execution_count": null,
   "metadata": {},
   "outputs": [],
   "source": [
    "n = 1 + 0.1\n",
    "print(n)\n",
    "type(n)"
   ]
  },
  {
   "cell_type": "code",
   "execution_count": null,
   "metadata": {},
   "outputs": [],
   "source": [
    "n = 2**3\n",
    "print(n)\n",
    "type(n)"
   ]
  },
  {
   "cell_type": "code",
   "execution_count": null,
   "metadata": {},
   "outputs": [],
   "source": [
    "type(2/1)"
   ]
  },
  {
   "cell_type": "code",
   "execution_count": null,
   "metadata": {},
   "outputs": [],
   "source": [
    "n = 3//2\n",
    "print(n)\n",
    "type(n)"
   ]
  },
  {
   "cell_type": "code",
   "execution_count": null,
   "metadata": {
    "scrolled": true
   },
   "outputs": [],
   "source": [
    "n = 2//0.5\n",
    "print(n)\n",
    "type(n)"
   ]
  },
  {
   "cell_type": "code",
   "execution_count": null,
   "metadata": {},
   "outputs": [],
   "source": [
    "n = 10%3\n",
    "print(n)\n",
    "type(n)"
   ]
  },
  {
   "cell_type": "code",
   "execution_count": null,
   "metadata": {},
   "outputs": [],
   "source": [
    "type(10+1j)"
   ]
  },
  {
   "cell_type": "markdown",
   "metadata": {},
   "source": [
    "### String\n",
    "\n",
    "<kbd>''</kbd> <kbd>\"\"</kbd> <kbd>\\\\'</kbd> <kbd>\\\\\"</kbd> <kbd>\\t</kbd> <kbd>\\n</kbd> <kbd>\\r</kbd> <kbd>\\\\\\\\</kbd> etc."
   ]
  },
  {
   "cell_type": "code",
   "execution_count": null,
   "metadata": {},
   "outputs": [],
   "source": [
    "type(\"10\")"
   ]
  },
  {
   "cell_type": "code",
   "execution_count": null,
   "metadata": {},
   "outputs": [],
   "source": [
    "type(\"let's go\")"
   ]
  },
  {
   "cell_type": "code",
   "execution_count": null,
   "metadata": {},
   "outputs": [],
   "source": [
    "type('let\\'s go')"
   ]
  },
  {
   "cell_type": "code",
   "execution_count": null,
   "metadata": {},
   "outputs": [],
   "source": [
    "\"Hello\" + \", \" + \"world!\""
   ]
  },
  {
   "cell_type": "code",
   "execution_count": null,
   "metadata": {},
   "outputs": [],
   "source": [
    "\"123\" * 3"
   ]
  },
  {
   "cell_type": "markdown",
   "metadata": {},
   "source": [
    "### Boolean \n",
    "\n",
    "- <kbd>True</kbd> <kbd>False</kbd>  \n",
    "    - True: non-zero number, non-empty string, non-empty list \n",
    "    - False: 0, 0.0, \"\", [], None\n",
    "- logic operator: <kbd>and</kbd> <kbd>or</kbd> <kbd>not</kbd>  \n",
    "- comparison operator: <kbd>></kbd> <kbd><</kbd> <kbd>>=</kbd> <kbd><=</kbd> <kbd>==</kbd> <kbd>！=</kbd>\n",
    "- identity operator: <kbd>is</kbd> <kbd>is not</kbd>"
   ]
  },
  {
   "cell_type": "code",
   "execution_count": null,
   "metadata": {},
   "outputs": [],
   "source": [
    "s = \"abc\"\n",
    "if (s): \n",
    "    print(\"s is not empty\")\n",
    "i = 0 \n",
    "if (i):\n",
    "    print(\"i is a non-zero number\")"
   ]
  },
  {
   "cell_type": "code",
   "execution_count": null,
   "metadata": {},
   "outputs": [],
   "source": [
    "1 == 2"
   ]
  },
  {
   "cell_type": "code",
   "execution_count": null,
   "metadata": {},
   "outputs": [],
   "source": [
    "1 != 2 "
   ]
  },
  {
   "cell_type": "code",
   "execution_count": null,
   "metadata": {},
   "outputs": [],
   "source": [
    "price = 15\n",
    "price > 10 and price < 20"
   ]
  },
  {
   "cell_type": "code",
   "execution_count": null,
   "metadata": {},
   "outputs": [],
   "source": [
    "not False"
   ]
  },
  {
   "cell_type": "markdown",
   "metadata": {},
   "source": [
    "### None"
   ]
  },
  {
   "cell_type": "code",
   "execution_count": null,
   "metadata": {
    "scrolled": true
   },
   "outputs": [],
   "source": [
    "x = None\n",
    "type(x)\n",
    "print(x is None)\n",
    "x = 1\n",
    "print(x is None)"
   ]
  },
  {
   "cell_type": "markdown",
   "metadata": {},
   "source": [
    "### type conversion/casting\n",
    "\n",
    "<kbd>int()</kbd> <kbd>float()</kbd> <kbd>str()</kbd> <kbd>bool()</kbd> <kbd>hex()</kbd> <kbd>ord()</kbd> "
   ]
  },
  {
   "cell_type": "code",
   "execution_count": null,
   "metadata": {},
   "outputs": [],
   "source": [
    "birth_year = input(\"Enter your birth year: \")\n",
    "age = 2021 - int(birth_year)  \n",
    "print(\"Your age: \" + str(age))"
   ]
  },
  {
   "cell_type": "code",
   "execution_count": null,
   "metadata": {},
   "outputs": [],
   "source": [
    "first = float(input(\"First: \")) \n",
    "second = float(input(\"Second: \"))\n",
    "total = first + second\n",
    "print (\"Sum: \" + str(total))"
   ]
  },
  {
   "cell_type": "code",
   "execution_count": null,
   "metadata": {},
   "outputs": [],
   "source": [
    "course = \"MTH251 data structure and algorithm I\"\n",
    "print(course.replace('MTH251', 'Python'))\n",
    "print(\"MTH251 in course: \" + str(course.find('MTH251')))\n",
    "print(course)"
   ]
  },
  {
   "cell_type": "code",
   "execution_count": null,
   "metadata": {},
   "outputs": [],
   "source": [
    "x, y, z = 1, 2, \"123\"\n",
    "print(x, y, z)\n",
    "x, y = y, x\n",
    "print(x, y, z)\n",
    "a = b = c = \"sg\"\n",
    "print(a, b, c)"
   ]
  },
  {
   "cell_type": "code",
   "execution_count": null,
   "metadata": {},
   "outputs": [],
   "source": [
    "x = \"1\"\n",
    "y = \"2\"\n",
    "print(id(\"1\"))\n",
    "print(id(\"2\"))\n",
    "print(id(x))\n",
    "print(id(y))\n",
    "x = \"2\"\n",
    "y = \"1\"\n",
    "print(id(x))\n",
    "print(id(y))\n",
    "x = y\n",
    "print(id(x))\n",
    "print(id(y))"
   ]
  },
  {
   "cell_type": "code",
   "execution_count": null,
   "metadata": {},
   "outputs": [],
   "source": [
    "# range(from, to, step)\n",
    "# from: inclusive, default 0\n",
    "# to: not inclusive\n",
    "# step: default 1\n",
    "nums = list(range(10))\n",
    "print(nums)\n",
    "nums = list(range(1,10,2))\n",
    "print(nums)\n",
    "nums = list(range(10,1,-2))\n",
    "print(nums)"
   ]
  },
  {
   "cell_type": "markdown",
   "metadata": {},
   "source": [
    "## Collection\n",
    "\n",
    "- <kbd>list</kbd> <kbd>tuple</kbd> <kbd>set</kbd> <kbd>dictionary</kbd>\n",
    "- membership operator: <kbd>in</kbd> <kbd>not in</kbd> "
   ]
  },
  {
   "cell_type": "markdown",
   "metadata": {},
   "source": [
    "### List [ ]\n",
    "\n",
    "A list is a collection of different items, usually the items all have\n",
    "the same type.\n",
    "\n",
    "- sequence type \n",
    "- sortable \n",
    "- grow and shrink as needed \n",
    "- most widely used"
   ]
  },
  {
   "cell_type": "code",
   "execution_count": null,
   "metadata": {},
   "outputs": [],
   "source": [
    "# constructing \n",
    "letters = ['a', 'b', 'c']\n",
    "items = list(('1', 2, 'abc', ['x', 'y']))\n",
    "ids = [i for i in range(10)]\n",
    "odds = [i for i in range(10) if i%2 == 1]\n",
    "print(letters)\n",
    "print(items)\n",
    "print(ids)\n",
    "print(odds)\n",
    "print(len(letters))\n",
    "print(len(items))\n",
    "print(len(ids))\n",
    "print(len(odds))"
   ]
  },
  {
   "cell_type": "code",
   "execution_count": null,
   "metadata": {},
   "outputs": [],
   "source": [
    "# items: indexing & slicing \n",
    "ids = [0, 1, 2, 3, 4, 5, 6]\n",
    "items = ['1st', '2nd', '3rd', '4th', '5th', '6th', '7th']\n",
    "print(\"<--- 7 items, index 0 ~ 6 --->\")\n",
    "for i, item in enumerate(items):\n",
    "    print(i, \"-\", item)\n",
    "print(\"<--- whole list, items[:] same as items[0:n], n is the len --->\")\n",
    "print(items)\n",
    "print(items[:])\n",
    "print(items[0:7])\n",
    "print(items[0:])\n",
    "print(items[:7])\n",
    "print(\"<--- first item, index starts with 0 ! --->\")\n",
    "print(ids[0])\n",
    "print(items[0])\n",
    "print(\"<--- xth item, index is x-1 and vice versa --->\")\n",
    "print(ids[5])\n",
    "print(items[5])\n",
    "print(\"<--- item from 2 to 4-1, exclude index 4/5th item --->\")\n",
    "print(ids[2:4])\n",
    "print(items[2:4])\n",
    "print(\"<--- item from 0 to 1, same as items[0:2] --->\")\n",
    "print(ids[:2])\n",
    "print(items[:2])\n",
    "print(items[0:2])\n",
    "print(\"<--- item from 3 till the last, same as items[3:n], n is len --->\")\n",
    "print(ids[3:])\n",
    "print(items[3:])\n",
    "print(items[3:7])\n",
    "print(\"<--- last item, index is n-1 or -1 ! --->\") \n",
    "print(ids[-1])\n",
    "print(items[-1])\n",
    "print(items[6])\n",
    "print(\"<--- item from -3 to -4, exclude index -2 --->\")\n",
    "print(ids[-4:-2])\n",
    "print(items[-4:-2])\n",
    "print(\"<--- last 3 items\")\n",
    "print(ids[-3:])\n",
    "print(items[-3:])\n",
    "print(\"<--- all except last 3 items, same as nums[0:-3] --->\") \n",
    "print(ids[:-3])\n",
    "print(items[:-3])\n",
    "print(items[0:-3])\n",
    "# start:end:step (step can be positive/negative)\n",
    "print(\"<--- step is 2 --->\")\n",
    "print(ids[::2])\n",
    "print(items[::2])\n",
    "print(\"<--- step is 2, more examples --->\")\n",
    "print(ids[1:5:2])\n",
    "print(items[1:5:2])\n",
    "print(ids[-3::2])\n",
    "print(items[-3::2])\n",
    "print(\"<--- step is -2 --->\")\n",
    "print(ids[::-2])\n",
    "print(items[::-2])\n",
    "print(\"<--- step is -2, more examples --->\")\n",
    "print(ids[5:1:-2])\n",
    "print(items[5:1:-2])\n",
    "print(ids[-2::-2])\n",
    "print(items[-2::-2])"
   ]
  },
  {
   "cell_type": "code",
   "execution_count": null,
   "metadata": {},
   "outputs": [],
   "source": [
    "# items\n",
    "ids = [0, 1, 2, 3, 4, 5, 6]\n",
    "items = ['1st', '2nd', '3rd', '4th', '5th', '6th', '7th']\n",
    "\n",
    "# checking \n",
    "print(5 in ids) # True\n",
    "print('8th' in items) # False\n",
    "print(items.index('2nd')) # 1\n",
    "# this would throw error\n",
    "# print(items.index('8th'))    \n",
    "\n",
    "# count\n",
    "ids2 = ids + ids\n",
    "print(ids2.count(0)) # 2 \n",
    "\n",
    "# iterating \n",
    "# loop by item \n",
    "for i in items: \n",
    "    print(\"index: \" + str(items.index(i)))\n",
    "\n",
    "# loop by index\n",
    "for i in range(len(items)):\n",
    "    print(\"item: \" + items[i])\n",
    "\n",
    "# loop by index & item \n",
    "for i, item in enumerate(items):\n",
    "    print(i, \"-\", item)\n",
    "    \n",
    "# add or remove items \n",
    "print(items)\n",
    "items.append('8th')\n",
    "print(items)\n",
    "items.extend(['9th', '10th', '11th'])\n",
    "print(items)\n",
    "items.insert(1, 'b')\n",
    "print(items)\n",
    "\n",
    "# pop, remove & del \n",
    "items.pop() # remove last item \n",
    "print(items)\n",
    "items.remove('b') # remove 'b'\n",
    "print(items)\n",
    "del(items[3]) # remove \"4th\" \n",
    "print(items)\n",
    "\n",
    "# clear\n",
    "ids.clear()\n",
    "print(ids)"
   ]
  },
  {
   "cell_type": "code",
   "execution_count": null,
   "metadata": {},
   "outputs": [],
   "source": [
    "# adding/cancatenating, multiplying\n",
    "list1 = [1, 2]\n",
    "list2 = [3, 4]\n",
    "print(list1 + list2)\n",
    "print(list1 * 2 + list2 * 2)"
   ]
  },
  {
   "cell_type": "code",
   "execution_count": null,
   "metadata": {},
   "outputs": [],
   "source": [
    "ids = [0, 1, 2, 3]\n",
    "items = ['1st', '2nd', '3rd', '4th']\n",
    "\n",
    "# many built-in functions \n",
    "\n",
    "# min & max \n",
    "print(min(ids))\n",
    "print(max(ids))\n",
    "\n",
    "# sum \n",
    "print(sum(ids))\n",
    "# this would throw error\n",
    "# print(sum(items))\n",
    "\n",
    "# sorting\n",
    "ids2 = ids * 2\n",
    "ids2.sort()\n",
    "print(ids2)\n",
    "ids2.sort(reverse=True)\n",
    "print(ids2)\n",
    "\n",
    "# reverse \n",
    "ids.reverse() # same as ids = ids[::-1]\n",
    "print(ids)"
   ]
  },
  {
   "cell_type": "markdown",
   "metadata": {},
   "source": [
    "### Tuple ( )\n",
    "\n",
    "A tuple is a collection which is ordered and unchangeable."
   ]
  },
  {
   "cell_type": "code",
   "execution_count": null,
   "metadata": {},
   "outputs": [],
   "source": [
    "x = ()           # no-item tuple\n",
    "x = (1, 2, 3)    # tuple contains 3 items \n",
    "x = 1, 2, 3      # same as above \n",
    "x = 1            # single item tuple \n",
    "list1 = [1, 2, 3]\n",
    "x = tuple(list1) # tuple from list\n",
    "\n",
    "# u cannot do this like list\n",
    "# del(x[1])\n",
    "# x[1] = 10"
   ]
  },
  {
   "cell_type": "markdown",
   "metadata": {},
   "source": [
    "### Set [ ]\n",
    "\n",
    "A set is a collection which is unordered and unindexed."
   ]
  },
  {
   "cell_type": "code",
   "execution_count": null,
   "metadata": {},
   "outputs": [],
   "source": [
    "x = set() # empty set\n",
    "list1 = {1, 1, 2, 3}\n",
    "x = set(list1) # set from list, strip duplicates \n",
    "print(x)\n",
    "# similar methods to list\n",
    "x.add(3)\n",
    "print(x)\n",
    "x.remove(3)\n",
    "print(x)\n",
    "print(x.pop())\n",
    "x.clear()\n",
    "print(x)"
   ]
  },
  {
   "cell_type": "markdown",
   "metadata": {},
   "source": [
    "### Dictionary\n",
    "\n",
    "A dictionary is a set of `key: value` pairs, unordered, changeable and indexed. "
   ]
  },
  {
   "cell_type": "code",
   "execution_count": null,
   "metadata": {},
   "outputs": [],
   "source": [
    "price = {'pork':16.5, 'beef':35, 'chicken':20.5}\n",
    "print(price)\n",
    "price = dict([('pork', 16.5),('beef', 35),('chicken', 20.5)])\n",
    "print(price)\n",
    "price = dict(pork=16.5, beef=35, chicken=20.5)\n",
    "print(price)"
   ]
  },
  {
   "cell_type": "code",
   "execution_count": null,
   "metadata": {},
   "outputs": [],
   "source": [
    "price = {'pork':16.5, 'beef':35, 'chicken':20.5}\n",
    "# add/change item \n",
    "price['chicken'] = 12\n",
    "price['fish'] = 40\n",
    "print(price)\n",
    "# remove item \n",
    "del price['pork']\n",
    "print(price)\n",
    "print(\"<--- iterate by item (key-value tuple) --->\")  \n",
    "for k, v in price.items():\n",
    "    print(k, v)\n",
    "print(\"<--- iterate by key --->\")\n",
    "for meat in price.keys():\n",
    "    p = price[meat]\n",
    "    print(\"meat: \" + meat)\n",
    "    print(\"price: \" + str(p))"
   ]
  },
  {
   "cell_type": "markdown",
   "metadata": {},
   "source": [
    "## Program Structure\n",
    "\n",
    "-   variable\n",
    "-   statement & comments\n",
    "    - Python uses new lines to complete a command, as opposed to other programming languages often use <kbd>;</kbd> or <kbd>()</kbd>；relies on indentation (<span class=\"uline\">whitespace sensitive</span>), to define scope, such as the scope of loops, functions and classes, as opossed to other programming languages often use <kbd>{}</kbd>  \n",
    "- control flow\n",
    "    - <kbd>if..elif..else</kbd>\n",
    "    - <kbd>while</kbd> <kbd>for</kbd> <kbd>break</kbd> <kbd>continue</kbd>\n",
    "- function\n",
    "- modules & packages: <kbd>import</kbd> \n",
    "- error & exception\n",
    "    - handling exception: <kbd>try</kbd>\n",
    "    - raise execption: <kbd>raise</kbd>"
   ]
  },
  {
   "cell_type": "markdown",
   "metadata": {},
   "source": [
    "### varable\n",
    "\n",
    "- naming convention (**case sensitive**)\n",
    "- created the moment you first assign a value to it\n",
    "- assignment operator: <kbd>=</kbd> <kbd>+=</kbd> <kbd>-=</kbd> <kbd>/=</kbd> <kbd>//=</kbd> etc. \n",
    "- variable is an Object \n",
    "- variable scope "
   ]
  },
  {
   "cell_type": "code",
   "execution_count": null,
   "metadata": {},
   "outputs": [],
   "source": [
    "name = input(\"Enter your name: \")\n",
    "print(\"Hello, %s!\" % name)"
   ]
  },
  {
   "cell_type": "markdown",
   "metadata": {},
   "source": [
    "### statement & comments\n",
    "\n",
    "- Python uses new lines to complete a command, as opposed to other programming languages often use <kbd>;</kbd> or <kbd>()</kbd>\n",
    "\n",
    "- Python relies on indentation (**whitespace sensitive**), to define scope; such as the scope of loops, functions and classes, as opossed to other programming languages often use <kbd>{}</kbd>"
   ]
  },
  {
   "cell_type": "code",
   "execution_count": null,
   "metadata": {},
   "outputs": [],
   "source": [
    "# This is a comment.\n",
    "print(\"Hello, World!\")\n",
    "\n",
    "print(\"Hello, World!\") #This is a comment.\n",
    "\n",
    "\"\"\"This is a \n",
    "multiline docstring.\"\"\"\n",
    "print(\"Hello, World!\")\n"
   ]
  },
  {
   "cell_type": "markdown",
   "metadata": {},
   "source": [
    "### if..elif..else"
   ]
  },
  {
   "cell_type": "code",
   "execution_count": null,
   "metadata": {},
   "outputs": [],
   "source": [
    "temperature = float(input(\"temperature of today: \"))\n",
    "\n",
    "if (temperature > 32): \n",
    "    print(\"it is a hot day\")\n",
    "    print(\"pls drink watr\")\n",
    "elif (temperature > 22): \n",
    "    print(\"it is a warm day\")\n",
    "else: \n",
    "    print(\"it is a cold day\")"
   ]
  },
  {
   "cell_type": "markdown",
   "metadata": {},
   "source": [
    "### while, for loop "
   ]
  },
  {
   "cell_type": "code",
   "execution_count": null,
   "metadata": {},
   "outputs": [],
   "source": [
    "# while loop\n",
    "i = 100 \n",
    "print(\"while loop\")\n",
    "while (i < 200): \n",
    "    print(i)\n",
    "    i += 10\n",
    "\n",
    "# for loop \n",
    "print(\"for loop\")\n",
    "nums = [0, 1, 2, 3, 4, 5, 6]\n",
    "for i in nums:\n",
    "    print(i)\n",
    "\n",
    "# loop, break \n",
    "print(\"break loop\")\n",
    "for i in range(10, 20):\n",
    "    if (i > 15):\n",
    "        break\n",
    "    print(i)\n",
    "\n",
    "# loop, continue \n",
    "print(\"break loop\")\n",
    "for i in range(10, 20):\n",
    "    if (i < 15):\n",
    "        continue\n",
    "    print(i)"
   ]
  },
  {
   "cell_type": "markdown",
   "metadata": {},
   "source": [
    "### function\n",
    "\n",
    "- a block of statement \n",
    "- operations in a program can be split into functions (modules): easier to debug, re-use, maintain\n",
    "- <kbd>def</kbd> <kbd>return</kbd>\n",
    "- <kbd>_main_</kbd>\n",
    "- lambda function\n",
    "- decorator"
   ]
  },
  {
   "cell_type": "code",
   "execution_count": null,
   "metadata": {},
   "outputs": [],
   "source": [
    "def sum1(a, b): \n",
    "    return a + b\n",
    "\n",
    "print(sum1(1, 2))\n",
    "\n",
    "# argument tuple: variable number of arguments\n",
    "def sum2(*nums):\n",
    "    total = 0\n",
    "    for i in nums: \n",
    "        total += i\n",
    "    return total \n",
    "\n",
    "print(sum2(1, 2, 3, 4))\n",
    "\n",
    "# keyword argument & default argument value\n",
    "def add_student(name, gender='M', age=20):\n",
    "    return {'name': name, 'gender': gender, 'age': age}\n",
    "\n",
    "print(add_student(name='Alex'))\n",
    "print(add_student(name='Jade', age=18, gender='F'))\n",
    "\n",
    "# lambda: anonymous function \n",
    "full_name = lambda student: student['first_name'] + ' ' + student['second_name']\n",
    "student1 = {'first_name': 'Alan', 'second_name': 'Zhong', 'gender': 'M', 'age': 20, 'grade': 'A'}\n",
    "print(full_name(student1))"
   ]
  },
  {
   "cell_type": "code",
   "execution_count": 45,
   "metadata": {},
   "outputs": [
    {
     "name": "stdout",
     "output_type": "stream",
     "text": [
      "Hello, Zhong!\n",
      "<strong>Hello, Zhong!</strong>\n"
     ]
    }
   ],
   "source": [
    "# function decorator - simply a wrapper of existing function\n",
    "# decorator can dynamically alter the functionality of a function, method or class \n",
    "# without directly use subclass\n",
    "\n",
    "\n",
    "# original function \n",
    "def greeting(name):\n",
    "    return \"Hello, {0}!\".format(name)\n",
    "\n",
    "print(greeting(\"Zhong\"))\n",
    "\n",
    "def decorate_with_bold(func):\n",
    "    def function_wrapper(text):\n",
    "        return \"<strong>{0}</strong>\".format(func(text))\n",
    "    return function_wrapper\n",
    "\n",
    "@decorate_with_bold\n",
    "def greeting_with_decorator(name): \n",
    "    return \"Hello, {0}!\".format(name)\n",
    "    \n",
    "print(greeting_with_decorator(\"Zhong\"))\n"
   ]
  },
  {
   "cell_type": "markdown",
   "metadata": {},
   "source": [
    "### error & exception\n",
    "\n",
    "- handling exception: <kbd>try...except...else...finally</kbd>\n",
    "- raise execption: <kbd>raise</kbd>"
   ]
  },
  {
   "cell_type": "code",
   "execution_count": 50,
   "metadata": {
    "scrolled": true
   },
   "outputs": [
    {
     "name": "stdout",
     "output_type": "stream",
     "text": [
      "Traceback (most recent call last):\n",
      "  File \"<ipython-input-50-3df56ae0d08d>\", line 10, in <module>\n",
      "    result = 1 + (2 / spam) # NameError\n",
      "NameError: name 'spam' is not defined\n",
      "\n",
      "final result: 3\n",
      "exception_fired: True\n",
      "exception_handled: True\n",
      "zerodivision_erro_handled: False\n",
      "name_error_handled: True\n"
     ]
    }
   ],
   "source": [
    "import traceback\n",
    "\n",
    "exception_fired = False \n",
    "exception_handled = False\n",
    "zerodivision_erro_handled = False\n",
    "name_error_handled = False \n",
    "\n",
    "try:\n",
    "    # result = 1 + (2 / 0) # ZeroDivisionError\n",
    "    result = 1 + (2 / spam) # NameError\n",
    "except ZeroDivisionError as e:\n",
    "    # we should not get here \n",
    "    exception_fired = True \n",
    "    print(traceback.format_exc())\n",
    "    result = 0\n",
    "    exception_handled = True\n",
    "    zerodivision_erro_handled = True\n",
    "except NameError as e:\n",
    "    # we should get here \n",
    "    exception_fired = True \n",
    "    print(traceback.format_exc())\n",
    "    result = 3 # default value \n",
    "    exception_handled = True\n",
    "    name_error_handled = True\n",
    "except:\n",
    "    # if any exception other than ZeroDivisionError, NameError\n",
    "    # we should not get here\n",
    "    exception_fired = True \n",
    "    print(traceback.format_exc())\n",
    "    result = 0 # default value \n",
    "    exception_handled = True\n",
    "else:\n",
    "    # if there is no exceptionb\n",
    "    # we should not get here \n",
    "    print(\"we get the result successfully !\")\n",
    "finally:\n",
    "    print(\"final result: \" + str(result))\n",
    "    print(\"exception_fired: \" + str(exception_fired))\n",
    "    print(\"exception_handled: \" + str(exception_handled))\n",
    "    print(\"zerodivision_erro_handled: \" + str(zerodivision_erro_handled))\n",
    "    print(\"name_error_handled: \" + str(name_error_handled))"
   ]
  },
  {
   "cell_type": "code",
   "execution_count": 53,
   "metadata": {},
   "outputs": [
    {
     "name": "stdout",
     "output_type": "stream",
     "text": [
      "spam not defined\n"
     ]
    }
   ],
   "source": [
    "import traceback \n",
    "\n",
    "spam = 1\n",
    "try:\n",
    "    result = 1 + (2 / spam) \n",
    "    raise NameError('spam not defined') # explicitly raise an error \n",
    "except Exception as e:\n",
    "    print(e)\n"
   ]
  },
  {
   "cell_type": "markdown",
   "metadata": {},
   "source": [
    "## OO & Class\n",
    "\n",
    "- OO \n",
    "    - inheritance \n",
    "    - encapsulation \n",
    "    - Polymorphism\n",
    "- class, instance, method\n",
    "- class and instance variable "
   ]
  },
  {
   "cell_type": "code",
   "execution_count": null,
   "metadata": {},
   "outputs": [],
   "source": [
    "# define the class\n",
    "class Person: \n",
    "    # attributes \n",
    "    name = ''\n",
    "    gender = ''\n",
    "    age = 0 \n",
    "    # methods \n",
    "    def greet(self): \n",
    "        print(\"Hi, my name is \" + self.name)\n",
    "\n",
    "# create instance\n",
    "p1 = Person()\n",
    "# assign attributes \n",
    "p1.name = 'Alex'\n",
    "p1.gender = 'M'\n",
    "p1.age = 20\n",
    "# call methods \n",
    "p1.greet()\n",
    "\n",
    "import copy\n",
    "p2 = copy.deepcopy(p1)\n",
    "p2.name = 'Bob'\n",
    "p2.greet()\n",
    "\n",
    "# child class \n",
    "class Student(Person):\n",
    "    # attributes\n",
    "    grade = ''\n",
    "    # methods \n",
    "    def score(self, s): \n",
    "        if s > 80: \n",
    "            self.grade = 'A'\n",
    "        elif s > 70:\n",
    "            self.grade = 'B'\n",
    "        elif s > 60:\n",
    "            self.grade = 'C'\n",
    "        else:\n",
    "            self.grade = 'D'\n",
    "    def greet(self):\n",
    "        Person.greet(self)\n",
    "        print(\"my grade is \" + self.grade)\n",
    "\n",
    "# create instance\n",
    "s1 = Student()\n",
    "# assign attributes \n",
    "s1.name = 'Alex'\n",
    "s1.gender = 'M'\n",
    "s1.age = 20\n",
    "# call methods \n",
    "s1.score(100)\n",
    "s1.greet()\n",
    "\n",
    "# Polymorphism \n",
    "class Teacher(Person):\n",
    "    def greet(self):\n",
    "        Person.greet(self)\n",
    "        print(\"I am teaching class MTH\")\n",
    "\n",
    "def greet(p):\n",
    "    p.greet()\n",
    "\n",
    "t1 = Teacher()\n",
    "t1.name = 'Alan'\n",
    "greet(t1)\n",
    "s2 = copy.deepcopy(s1)\n",
    "s2.name = 'Bob'\n",
    "greet(s2)"
   ]
  },
  {
   "cell_type": "markdown",
   "metadata": {},
   "source": [
    "### variable scope"
   ]
  },
  {
   "cell_type": "code",
   "execution_count": null,
   "metadata": {},
   "outputs": [],
   "source": [
    "x = 10000 \n",
    "\n",
    "def fun1():\n",
    "    print(\"func1: \", x)\n",
    "    \n",
    "def fun2():\n",
    "    x = 1\n",
    "    print(\"func2: \", x)\n",
    "\n",
    "def fun3():\n",
    "    global x\n",
    "    print(x)\n",
    "    x = 1\n",
    "    print(\"func3: \", x)\n",
    "    \n",
    "fun1()\n",
    "print(\"after fun1: \", x)\n",
    "fun2()\n",
    "print(\"after fun2: \", x)\n",
    "fun3()\n",
    "print(\"after fun2: \", 3)"
   ]
  },
  {
   "cell_type": "markdown",
   "metadata": {},
   "source": [
    "### modules & packages\n",
    "\n",
    "- modular programming: <kbd>function</kbd> → <kbd>module</kbd> → <kbd>package</kbd>"
   ]
  },
  {
   "cell_type": "markdown",
   "metadata": {},
   "source": [
    "## PEP8 Style Guide for Python Code ([link](https://www.python.org/dev/peps/pep-0008/))"
   ]
  },
  {
   "cell_type": "code",
   "execution_count": null,
   "metadata": {},
   "outputs": [],
   "source": [
    "import this\n",
    "s = this.s\n",
    "d = {}\n",
    "for c in (65, 97):\n",
    "    for i in range(26):\n",
    "        d[chr(i+c)] = chr((i+13) % 26 + c)\n",
    "\n",
    "print(\"\\n\".join((\"\".join([d.get(c, c) for c in s])).split(\"\\n\")[0:5]))"
   ]
  },
  {
   "cell_type": "code",
   "execution_count": null,
   "metadata": {},
   "outputs": [],
   "source": [
    "import antigravity"
   ]
  },
  {
   "cell_type": "markdown",
   "metadata": {},
   "source": [
    "# Big-O"
   ]
  },
  {
   "cell_type": "code",
   "execution_count": null,
   "metadata": {},
   "outputs": [],
   "source": [
    "# O(1)\n",
    "n = 10\n",
    "print(\"Hi, the number is \", n)\n",
    "n = n * 10\n",
    "print(\"Hi, the number is 10 times bigger now\", n)"
   ]
  },
  {
   "cell_type": "code",
   "execution_count": null,
   "metadata": {},
   "outputs": [],
   "source": [
    "# O(n)\n",
    "n = 10\n",
    "for i in range(n):\n",
    "    print(\"index is \", i)"
   ]
  },
  {
   "cell_type": "code",
   "execution_count": null,
   "metadata": {},
   "outputs": [],
   "source": [
    "# O(n^2)\n",
    "n = 10\n",
    "for i in range(n):\n",
    "    for j in range(i,n):\n",
    "        print(\"index is \", i, j)"
   ]
  },
  {
   "cell_type": "code",
   "execution_count": null,
   "metadata": {},
   "outputs": [],
   "source": [
    "# O(logN)\n",
    "# example1\n",
    "n = 100\n",
    "i = 1\n",
    "j = 0\n",
    "while (i < n): \n",
    "    i = i * 2\n",
    "    j = j + 1\n",
    "print(\"final: \", i)\n",
    "print(\"count: \", j)\n",
    "\n",
    "# example2\n",
    "n = 100\n",
    "i = 1\n",
    "j = 0\n",
    "while (i < n): \n",
    "    i = i * 10\n",
    "    j = j + 1\n",
    "print(\"final: \", i)\n",
    "print(\"count: \", j)"
   ]
  },
  {
   "cell_type": "code",
   "execution_count": null,
   "metadata": {},
   "outputs": [],
   "source": [
    "# O(?): O(T*depth) \n",
    "# F(n) = F(n-1) + F(n-2)\n",
    "def fib(n): \n",
    "    if (n < 2):\n",
    "        return n\n",
    "    x = fib(n-1) + fib(n-2)\n",
    "    return x\n",
    "\n",
    "print(\"fib(10): \", fib(10))"
   ]
  },
  {
   "cell_type": "markdown",
   "metadata": {},
   "source": [
    "# Complexity Analysis \n",
    "- best case \n",
    "- worst case \n",
    "- average case \n",
    "- amortized "
   ]
  },
  {
   "cell_type": "code",
   "execution_count": null,
   "metadata": {},
   "outputs": [],
   "source": [
    "def find(l, x):\n",
    "    for i in l: \n",
    "        if i == x: \n",
    "            return True\n",
    "    return False \n",
    "\n",
    "ints = list(range(100))\n",
    "\n",
    "print(\"best case  -   0 in list: \", find(ints, 0))\n",
    "print(\"worst case -  99 in list: \", find(ints, 99))\n",
    "print(\"avg case   -  50 in list: \", find(ints, 50))\n",
    "print(\"avg case   - 100 in list: \", find(ints, 100))"
   ]
  },
  {
   "cell_type": "markdown",
   "metadata": {},
   "source": [
    "# Exercise"
   ]
  },
  {
   "cell_type": "code",
   "execution_count": null,
   "metadata": {},
   "outputs": [],
   "source": []
  }
 ],
 "metadata": {
  "kernelspec": {
   "display_name": "Python 3",
   "language": "python",
   "name": "python3"
  },
  "language_info": {
   "codemirror_mode": {
    "name": "ipython",
    "version": 3
   },
   "file_extension": ".py",
   "mimetype": "text/x-python",
   "name": "python",
   "nbconvert_exporter": "python",
   "pygments_lexer": "ipython3",
   "version": "3.8.5"
  }
 },
 "nbformat": 4,
 "nbformat_minor": 4
}
