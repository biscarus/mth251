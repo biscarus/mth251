{
 "cells": [
  {
   "cell_type": "markdown",
   "metadata": {},
   "source": [
    "# Python\n",
    "\n",
    "1. Data Type & Operators \n",
    "2. Collections\n",
    "3. Program Structure \n",
    "4. OO & Class\n",
    "5. misc. \n",
    "6. PEP8 \n",
    "\n",
    "Cheatsheet: \n",
    "\n",
    "- 🧾[Python Crash Course - Cheat Sheets](https://github.com/ehmatthes/pcc/releases/download/v1.0.0/beginners_python_cheat_sheet_pcc_all.pdf)  \n",
    "\n",
    "- 🧾[Comprehensive Python Cheatsheet](https://github.com/gto76/python-cheatsheet)  "
   ]
  },
  {
   "cell_type": "markdown",
   "metadata": {},
   "source": [
    "## Data Type & Operators\n",
    "\n",
    "### Number\n",
    "\n",
    "- <kbd>int</kbd> <kbd>float</kbd> <kbd>complex</kbd>  \n",
    "- arithmetic operator: <kbd>+</kbd> <kbd>-</kbd> <kbd>*</kbd> <kbd>/</kbd> <kbd>//</kbd> <kbd>%</kbd> <kbd>**</kbd>\n",
    "- bitwise operator: <kbd>&</kbd> <kbd>|</kbd> <kbd>^</kbd> <kbd>>></kbd> <kbd><<</kbd> <kbd>~</kbd>\n",
    "- <kbd>range()</kbd>: a list of integers"
   ]
  },
  {
   "cell_type": "code",
   "execution_count": null,
   "metadata": {
    "scrolled": true
   },
   "outputs": [],
   "source": [
    "n = 10\n",
    "print(n)\n",
    "type(n)"
   ]
  },
  {
   "cell_type": "code",
   "execution_count": null,
   "metadata": {},
   "outputs": [],
   "source": [
    "n = 1 + 2\n",
    "print(n)\n",
    "type(n)"
   ]
  },
  {
   "cell_type": "code",
   "execution_count": null,
   "metadata": {},
   "outputs": [],
   "source": [
    "n = 0.1\n",
    "type(n)\n",
    "type(0.1)"
   ]
  },
  {
   "cell_type": "code",
   "execution_count": null,
   "metadata": {},
   "outputs": [],
   "source": [
    "n = 1 + 0.1\n",
    "print(n)\n",
    "type(n)"
   ]
  },
  {
   "cell_type": "code",
   "execution_count": null,
   "metadata": {},
   "outputs": [],
   "source": [
    "n = 2**3\n",
    "print(n)\n",
    "type(n)"
   ]
  },
  {
   "cell_type": "code",
   "execution_count": null,
   "metadata": {},
   "outputs": [],
   "source": [
    "type(2/1)"
   ]
  },
  {
   "cell_type": "code",
   "execution_count": null,
   "metadata": {},
   "outputs": [],
   "source": [
    "n = 3//2\n",
    "print(n)\n",
    "type(n)"
   ]
  },
  {
   "cell_type": "code",
   "execution_count": null,
   "metadata": {
    "scrolled": true
   },
   "outputs": [],
   "source": [
    "n = 2//0.5\n",
    "print(n)\n",
    "type(n)"
   ]
  },
  {
   "cell_type": "code",
   "execution_count": null,
   "metadata": {},
   "outputs": [],
   "source": [
    "n = 10%3\n",
    "print(n)\n",
    "type(n)"
   ]
  },
  {
   "cell_type": "code",
   "execution_count": null,
   "metadata": {},
   "outputs": [],
   "source": [
    "type(10+1j)"
   ]
  },
  {
   "cell_type": "markdown",
   "metadata": {},
   "source": [
    "### String\n",
    "\n",
    "- <kbd>''</kbd> <kbd>\"\"</kbd> <kbd>\\\\'</kbd> <kbd>\\\\\"</kbd> <kbd>\\t</kbd> <kbd>\\n</kbd> <kbd>\\r</kbd> <kbd>\\\\\\\\</kbd> etc.\n",
    "- <kbd>join()</kbd> <kbd>split()</kbd> <kbd>ljust()</kbd> <kbd>rjust()</kbd> <kbd>lower()</kbd> <kbd>upper()</kbd> <kbd>lstrip()</kbd> <kbd>rstrip()</kbd> <kbd>strip()</kbd> etc."
   ]
  },
  {
   "cell_type": "code",
   "execution_count": null,
   "metadata": {},
   "outputs": [],
   "source": [
    "type(\"10\")"
   ]
  },
  {
   "cell_type": "code",
   "execution_count": null,
   "metadata": {},
   "outputs": [],
   "source": [
    "type(\"let's go\")"
   ]
  },
  {
   "cell_type": "code",
   "execution_count": null,
   "metadata": {},
   "outputs": [],
   "source": [
    "type('let\\'s go')"
   ]
  },
  {
   "cell_type": "code",
   "execution_count": null,
   "metadata": {},
   "outputs": [],
   "source": [
    "\"Hello\" + \", \" + \"world!\""
   ]
  },
  {
   "cell_type": "code",
   "execution_count": null,
   "metadata": {},
   "outputs": [],
   "source": [
    "\"123\" * 3"
   ]
  },
  {
   "cell_type": "code",
   "execution_count": null,
   "metadata": {},
   "outputs": [],
   "source": [
    "print(\"split 'a, b, c, d' => \", 'a, b, c, d'.split(', '))\n",
    "print(\"join ['a', 'b', 'c', 'd'] => \", '-'.join(['a', 'b', 'c', 'd']))"
   ]
  },
  {
   "cell_type": "markdown",
   "metadata": {},
   "source": [
    "### Boolean \n",
    "\n",
    "- <kbd>True</kbd> <kbd>False</kbd>  \n",
    "    - True: non-zero number, non-empty string, non-empty list \n",
    "    - False: 0, 0.0, \"\", [], None\n",
    "- logic operator: <kbd>and</kbd> <kbd>or</kbd> <kbd>not</kbd>  \n",
    "- comparison operator: <kbd>></kbd> <kbd><</kbd> <kbd>>=</kbd> <kbd><=</kbd> <kbd>==</kbd> <kbd>！=</kbd>\n",
    "- identity operator: <kbd>is</kbd> <kbd>is not</kbd>"
   ]
  },
  {
   "cell_type": "code",
   "execution_count": null,
   "metadata": {},
   "outputs": [],
   "source": [
    "s = \"abc\"\n",
    "if (s): \n",
    "    print(\"s is not empty\")\n",
    "i = 0 \n",
    "if (i):\n",
    "    print(\"i is a non-zero number\")"
   ]
  },
  {
   "cell_type": "code",
   "execution_count": null,
   "metadata": {},
   "outputs": [],
   "source": [
    "1 == 2"
   ]
  },
  {
   "cell_type": "code",
   "execution_count": null,
   "metadata": {},
   "outputs": [],
   "source": [
    "1 != 2 "
   ]
  },
  {
   "cell_type": "code",
   "execution_count": null,
   "metadata": {},
   "outputs": [],
   "source": [
    "price = 15\n",
    "price > 10 and price < 20"
   ]
  },
  {
   "cell_type": "code",
   "execution_count": null,
   "metadata": {},
   "outputs": [],
   "source": [
    "not False"
   ]
  },
  {
   "cell_type": "markdown",
   "metadata": {},
   "source": [
    "### None"
   ]
  },
  {
   "cell_type": "code",
   "execution_count": null,
   "metadata": {
    "scrolled": true
   },
   "outputs": [],
   "source": [
    "x = None\n",
    "type(x)\n",
    "print(x is None)\n",
    "x = 1\n",
    "print(x is None)"
   ]
  },
  {
   "cell_type": "markdown",
   "metadata": {},
   "source": [
    "### type conversion/casting\n",
    "\n",
    "<kbd>int()</kbd> <kbd>float()</kbd> <kbd>str()</kbd> <kbd>bool()</kbd> <kbd>hex()</kbd> <kbd>ord()</kbd> "
   ]
  },
  {
   "cell_type": "code",
   "execution_count": null,
   "metadata": {},
   "outputs": [],
   "source": [
    "birth_year = input(\"Enter your birth year: \")\n",
    "age = 2021 - int(birth_year)  \n",
    "print(\"Your age: \" + str(age))"
   ]
  },
  {
   "cell_type": "code",
   "execution_count": null,
   "metadata": {},
   "outputs": [],
   "source": [
    "first = float(input(\"First: \")) \n",
    "second = float(input(\"Second: \"))\n",
    "total = first + second\n",
    "print (\"Sum: \" + str(total))"
   ]
  },
  {
   "cell_type": "code",
   "execution_count": null,
   "metadata": {},
   "outputs": [],
   "source": [
    "course = \"MTH251 data structure and algorithm I\"\n",
    "print(course.replace('MTH251', 'Python'))\n",
    "print(\"MTH251 in course: \" + str(course.find('MTH251')))\n",
    "print(course)"
   ]
  },
  {
   "cell_type": "code",
   "execution_count": null,
   "metadata": {},
   "outputs": [],
   "source": [
    "x, y, z = 1, 2, \"123\"\n",
    "print(x, y, z)\n",
    "x, y = y, x\n",
    "print(x, y, z)\n",
    "a = b = c = \"sg\"\n",
    "print(a, b, c)"
   ]
  },
  {
   "cell_type": "code",
   "execution_count": null,
   "metadata": {},
   "outputs": [],
   "source": [
    "x = \"1\"\n",
    "y = \"2\"\n",
    "print(id(\"1\"))\n",
    "print(id(\"2\"))\n",
    "print(id(x))\n",
    "print(id(y))\n",
    "x = \"2\"\n",
    "y = \"1\"\n",
    "print(id(x))\n",
    "print(id(y))\n",
    "x = y\n",
    "print(id(x))\n",
    "print(id(y))"
   ]
  },
  {
   "cell_type": "code",
   "execution_count": null,
   "metadata": {},
   "outputs": [],
   "source": [
    "# range(from, to, step)\n",
    "# from: inclusive, default 0\n",
    "# to: not inclusive\n",
    "# step: default 1\n",
    "nums = list(range(10))\n",
    "print(nums)\n",
    "nums = list(range(1,10,2))\n",
    "print(nums)\n",
    "nums = list(range(10,1,-2))\n",
    "print(nums)"
   ]
  },
  {
   "cell_type": "markdown",
   "metadata": {},
   "source": [
    "## Collection\n",
    "\n",
    "- <kbd>list</kbd> <kbd>tuple</kbd> <kbd>set</kbd> <kbd>dictionary</kbd>\n",
    "- membership operator: <kbd>in</kbd> <kbd>not in</kbd> "
   ]
  },
  {
   "cell_type": "markdown",
   "metadata": {},
   "source": [
    "### List [ ]\n",
    "\n",
    "A list is a collection of different items, usually the items all have\n",
    "the same type.\n",
    "\n",
    "- sequence type \n",
    "- sortable \n",
    "- grow and shrink as needed \n",
    "- most widely used"
   ]
  },
  {
   "cell_type": "code",
   "execution_count": null,
   "metadata": {},
   "outputs": [],
   "source": [
    "# constructing \n",
    "letters = ['a', 'b', 'c']\n",
    "items = list(('1', 2, 'abc', ['x', 'y']))\n",
    "ids = [i for i in range(10)]\n",
    "odds = [i for i in range(10) if i%2 == 1]\n",
    "print(letters)\n",
    "print(items)\n",
    "print(ids)\n",
    "print(odds)\n",
    "print(len(letters))\n",
    "print(len(items))\n",
    "print(len(ids))\n",
    "print(len(odds))"
   ]
  },
  {
   "cell_type": "code",
   "execution_count": null,
   "metadata": {},
   "outputs": [],
   "source": [
    "# items: indexing & slicing \n",
    "ids = [0, 1, 2, 3, 4, 5, 6]\n",
    "items = ['1st', '2nd', '3rd', '4th', '5th', '6th', '7th']\n",
    "print(\"<--- 7 items, index 0 ~ 6 --->\")\n",
    "for i, item in enumerate(items):\n",
    "    print(i, \"-\", item)\n",
    "print(\"<--- whole list, items[:] same as items[0:n], n is the len --->\")\n",
    "print(items)\n",
    "print(items[:])\n",
    "print(items[0:7])\n",
    "print(items[0:])\n",
    "print(items[:7])\n",
    "print(\"<--- first item, index starts with 0 ! --->\")\n",
    "print(ids[0])\n",
    "print(items[0])\n",
    "print(\"<--- xth item, index is x-1 and vice versa --->\")\n",
    "print(ids[5])\n",
    "print(items[5])\n",
    "print(\"<--- item from 2 to 4-1, exclude index 4/5th item --->\")\n",
    "print(ids[2:4])\n",
    "print(items[2:4])\n",
    "print(\"<--- item from 0 to 1, same as items[0:2] --->\")\n",
    "print(ids[:2])\n",
    "print(items[:2])\n",
    "print(items[0:2])\n",
    "print(\"<--- item from 3 till the last, same as items[3:n], n is len --->\")\n",
    "print(ids[3:])\n",
    "print(items[3:])\n",
    "print(items[3:7])\n",
    "print(\"<--- last item, index is n-1 or -1 ! --->\") \n",
    "print(ids[-1])\n",
    "print(items[-1])\n",
    "print(items[6])\n",
    "print(\"<--- item from -3 to -4, exclude index -2 --->\")\n",
    "print(ids[-4:-2])\n",
    "print(items[-4:-2])\n",
    "print(\"<--- last 3 items\")\n",
    "print(ids[-3:])\n",
    "print(items[-3:])\n",
    "print(\"<--- all except last 3 items, same as nums[0:-3] --->\") \n",
    "print(ids[:-3])\n",
    "print(items[:-3])\n",
    "print(items[0:-3])\n",
    "# start:end:step (step can be positive/negative)\n",
    "print(\"<--- step is 2 --->\")\n",
    "print(ids[::2])\n",
    "print(items[::2])\n",
    "print(\"<--- step is 2, more examples --->\")\n",
    "print(ids[1:5:2])\n",
    "print(items[1:5:2])\n",
    "print(ids[-3::2])\n",
    "print(items[-3::2])\n",
    "print(\"<--- step is -2 --->\")\n",
    "print(ids[::-2])\n",
    "print(items[::-2])\n",
    "print(\"<--- step is -2, more examples --->\")\n",
    "print(ids[5:1:-2])\n",
    "print(items[5:1:-2])\n",
    "print(ids[-2::-2])\n",
    "print(items[-2::-2])"
   ]
  },
  {
   "cell_type": "code",
   "execution_count": null,
   "metadata": {},
   "outputs": [],
   "source": [
    "# items\n",
    "ids = [0, 1, 2, 3, 4, 5, 6]\n",
    "items = ['1st', '2nd', '3rd', '4th', '5th', '6th', '7th']\n",
    "\n",
    "# checking \n",
    "print(5 in ids) # True\n",
    "print('8th' in items) # False\n",
    "print(items.index('2nd')) # 1\n",
    "# this would throw error\n",
    "# print(items.index('8th'))    \n",
    "\n",
    "# count\n",
    "ids2 = ids + ids\n",
    "print(ids2.count(0)) # 2 \n",
    "\n",
    "# iterating \n",
    "# loop by item \n",
    "for i in items: \n",
    "    print(\"index: \" + str(items.index(i)))\n",
    "\n",
    "# loop by index\n",
    "for i in range(len(items)):\n",
    "    print(\"item: \" + items[i])\n",
    "\n",
    "# loop by index & item \n",
    "for i, item in enumerate(items):\n",
    "    print(i, \"-\", item)\n",
    "    \n",
    "# add or remove items \n",
    "print(items)\n",
    "items.append('8th')\n",
    "print(items)\n",
    "items.extend(['9th', '10th', '11th'])\n",
    "print(items)\n",
    "items.insert(1, 'b')\n",
    "print(items)\n",
    "\n",
    "# pop, remove & del \n",
    "items.pop() # remove last item \n",
    "print(items)\n",
    "items.remove('b') # remove 'b'\n",
    "print(items)\n",
    "del(items[3]) # remove \"4th\" \n",
    "print(items)\n",
    "\n",
    "# clear\n",
    "ids.clear()\n",
    "print(ids)"
   ]
  },
  {
   "cell_type": "code",
   "execution_count": null,
   "metadata": {},
   "outputs": [],
   "source": [
    "# adding/cancatenating, multiplying\n",
    "list1 = [1, 2]\n",
    "list2 = [3, 4]\n",
    "print(list1 + list2)\n",
    "print(list1 * 2 + list2 * 2)"
   ]
  },
  {
   "cell_type": "code",
   "execution_count": null,
   "metadata": {},
   "outputs": [],
   "source": [
    "ids = [0, 1, 2, 3]\n",
    "items = ['1st', '2nd', '3rd', '4th']\n",
    "\n",
    "# many built-in functions \n",
    "\n",
    "# min & max \n",
    "print(min(ids))\n",
    "print(max(ids))\n",
    "\n",
    "# sum \n",
    "print(sum(ids))\n",
    "# this would throw error\n",
    "# print(sum(items))\n",
    "\n",
    "# sorting\n",
    "ids2 = ids * 2\n",
    "ids2.sort()\n",
    "print(ids2)\n",
    "ids2.sort(reverse=True)\n",
    "print(ids2)\n",
    "\n",
    "# reverse \n",
    "ids.reverse() # same as ids = ids[::-1]\n",
    "print(ids)"
   ]
  },
  {
   "cell_type": "markdown",
   "metadata": {},
   "source": [
    "### Tuple ( )\n",
    "\n",
    "A tuple is a collection which is ordered and unchangeable."
   ]
  },
  {
   "cell_type": "code",
   "execution_count": null,
   "metadata": {},
   "outputs": [],
   "source": [
    "x = ()           # no-item tuple\n",
    "x = (1, 2, 3)    # tuple contains 3 items \n",
    "x = 1, 2, 3      # same as above \n",
    "x = 1            # single item tuple \n",
    "list1 = [1, 2, 3]\n",
    "x = tuple(list1) # tuple from list\n",
    "\n",
    "# u cannot do this like list\n",
    "# del(x[1])\n",
    "# x[1] = 10"
   ]
  },
  {
   "cell_type": "markdown",
   "metadata": {},
   "source": [
    "### Set [ ]\n",
    "\n",
    "A set is a collection which is unordered and unindexed."
   ]
  },
  {
   "cell_type": "code",
   "execution_count": null,
   "metadata": {},
   "outputs": [],
   "source": [
    "x = set() # empty set\n",
    "list1 = {1, 1, 2, 3}\n",
    "x = set(list1) # set from list, strip duplicates \n",
    "print(x)\n",
    "# similar methods to list\n",
    "x.add(3)\n",
    "print(x)\n",
    "x.remove(3)\n",
    "print(x)\n",
    "print(x.pop())\n",
    "x.clear()\n",
    "print(x)"
   ]
  },
  {
   "cell_type": "markdown",
   "metadata": {},
   "source": [
    "### Dictionary\n",
    "\n",
    "A dictionary is a set of `key: value` pairs, unordered, changeable and indexed. "
   ]
  },
  {
   "cell_type": "code",
   "execution_count": null,
   "metadata": {},
   "outputs": [],
   "source": [
    "price = {'pork':16.5, 'beef':35, 'chicken':20.5}\n",
    "print(price)\n",
    "price = dict([('pork', 16.5), ('beef', 35), ('chicken', 20.5)])\n",
    "print(price)\n",
    "price = dict(pork=16.5, beef=35, chicken=20.5)\n",
    "print(price)\n",
    "item_keys = ['pork', 'beef', 'chicken']\n",
    "item_values = [16.5, 35, 20.5]\n",
    "price = dict(zip(item_keys, item_values))\n",
    "print(price)"
   ]
  },
  {
   "cell_type": "code",
   "execution_count": null,
   "metadata": {},
   "outputs": [],
   "source": [
    "price = {'pork':16.5, 'beef':35, 'chicken':20.5}\n",
    "\n",
    "# retrieve item \n",
    "fish_price = price['fish'] if 'fish' in price else None\n",
    "print(\"fish price: \", fish_price)\n",
    "pork_price = price.get('pork', 0) # default to 0 \n",
    "print(\"pork price: \", pork_price)\n",
    "\n",
    "# add/change item \n",
    "price['chicken'] = 12\n",
    "price['fish'] = 40\n",
    "print(\"new price: \", price)\n",
    "\n",
    "# remove item \n",
    "del price['pork']\n",
    "print(\"new price: \", price)\n",
    "\n",
    "# iteration \n",
    "print(\"<--- iteration over item (key-value tuple) --->\")  \n",
    "for k, v in price.items():\n",
    "    print(k, v)\n",
    "print(\"<--- iteration over key --->\")\n",
    "for meat in price.keys():\n",
    "    p = price[meat]\n",
    "    print(\"meat: \" + meat)\n",
    "    print(\"price: \" + str(p))\n",
    "\n",
    "    # merge \n",
    "price1 = {'pork':16.5}\n",
    "price2 = {'beef':35, 'chicken':20.5}\n",
    "price3 = {'chicken':22.5, 'fish':40}\n",
    "price1.update(price2)\n",
    "print(\"update price1: \", price1)\n",
    "price4 = {**price1, **price3}\n",
    "print(\"new price4: \", price4)\n",
    "\n",
    "# sorted by key \n",
    "price_by_key = { k:price4[k] for k in sorted(price4.keys())}\n",
    "print(\"price_by_key:  \", price_by_key)\n",
    "price_by_key2 = { k:v for k,v in sorted(price4.items(), key=lambda t:t[0])}\n",
    "print(\"price_by_key2: \", price_by_key2)\n",
    "# sorted by value\n",
    "price_by_value = { k:v for k,v in sorted(price4.items(), key=lambda t:t[1])}\n",
    "print(\"price_by_value: \", price_by_value)"
   ]
  },
  {
   "cell_type": "markdown",
   "metadata": {},
   "source": [
    "## Program Structure\n",
    "\n",
    "-   variable\n",
    "-   statement & comments\n",
    "- control flow\n",
    "    - <kbd>if..elif..else</kbd>\n",
    "    - <kbd>while</kbd> <kbd>for</kbd> <kbd>break</kbd> <kbd>continue</kbd>\n",
    "- function\n",
    "- modules & packages: <kbd>import</kbd> \n",
    "- error & exception\n",
    "    - handling exception: <kbd>try</kbd>\n",
    "    - raise execption: <kbd>raise</kbd>"
   ]
  },
  {
   "cell_type": "markdown",
   "metadata": {},
   "source": [
    "### varable\n",
    "\n",
    "- naming convention (**case sensitive**)\n",
    "- created the moment you first assign a value to it\n",
    "- assignment operator: <kbd>=</kbd> <kbd>+=</kbd> <kbd>-=</kbd> <kbd>/=</kbd> <kbd>//=</kbd> etc. \n",
    "- variable is an Object \n",
    "- variable scope "
   ]
  },
  {
   "cell_type": "code",
   "execution_count": null,
   "metadata": {},
   "outputs": [],
   "source": [
    "name = input(\"Enter your name: \")\n",
    "print(\"Hello, %s!\" % name)"
   ]
  },
  {
   "cell_type": "markdown",
   "metadata": {},
   "source": [
    "### statement & comments\n",
    "\n",
    "- Python uses new lines to complete a command, as opposed to other programming languages often use <kbd>;</kbd> or <kbd>()</kbd>\n",
    "\n",
    "- Python relies on indentation (**whitespace sensitive**), to define scope; such as the scope of loops, functions and classes, as opossed to other programming languages often use <kbd>{}</kbd>"
   ]
  },
  {
   "cell_type": "code",
   "execution_count": null,
   "metadata": {},
   "outputs": [],
   "source": [
    "# This is a comment.\n",
    "print(\"Hello, World!\")\n",
    "\n",
    "print(\"Hello, World!\") #This is a comment.\n",
    "\n",
    "\"\"\"This is a \n",
    "multiline docstring.\"\"\"\n",
    "print(\"Hello, World!\")\n"
   ]
  },
  {
   "cell_type": "markdown",
   "metadata": {},
   "source": [
    "### if ... elif ... else"
   ]
  },
  {
   "cell_type": "code",
   "execution_count": null,
   "metadata": {},
   "outputs": [],
   "source": [
    "temperature = float(input(\"temperature of today: \"))\n",
    "\n",
    "if (temperature > 32): \n",
    "    print(\"it is a hot day\")\n",
    "    print(\"pls drink watr\")\n",
    "elif (temperature > 22): \n",
    "    print(\"it is a warm day\")\n",
    "else: \n",
    "    print(\"it is a cold day\")"
   ]
  },
  {
   "cell_type": "markdown",
   "metadata": {},
   "source": [
    "### while, for loop "
   ]
  },
  {
   "cell_type": "code",
   "execution_count": null,
   "metadata": {},
   "outputs": [],
   "source": [
    "# while loop\n",
    "i = 100 \n",
    "print(\"while loop\")\n",
    "while (i < 200): \n",
    "    print(i)\n",
    "    i += 10\n",
    "\n",
    "# for loop \n",
    "print(\"for loop\")\n",
    "nums = [0, 1, 2, 3, 4, 5, 6]\n",
    "for i in nums:\n",
    "    print(i)\n",
    "\n",
    "# loop, break \n",
    "print(\"break loop\")\n",
    "for i in range(10, 20):\n",
    "    if (i > 15):\n",
    "        break\n",
    "    print(i)\n",
    "\n",
    "# loop, continue \n",
    "print(\"break loop\")\n",
    "for i in range(10, 20):\n",
    "    if (i < 15):\n",
    "        continue\n",
    "    print(i)"
   ]
  },
  {
   "cell_type": "markdown",
   "metadata": {},
   "source": [
    "### function\n",
    "\n",
    "- a block of statement \n",
    "- operations in a program can be split into functions (modules): easier to debug, re-use, maintain\n",
    "- <kbd>def</kbd> <kbd>return</kbd>\n",
    "- <kbd>_main_</kbd>\n",
    "- advanced:\n",
    "    - lambda\n",
    "    - decorator\n",
    "    - closure"
   ]
  },
  {
   "cell_type": "code",
   "execution_count": null,
   "metadata": {},
   "outputs": [],
   "source": [
    "def sum1(a, b): \n",
    "    return a + b\n",
    "\n",
    "print(sum1(1, 2))\n",
    "\n",
    "# argument tuple: variable number of arguments\n",
    "def sum2(*nums):\n",
    "    total = 0\n",
    "    for i in nums: \n",
    "        total += i\n",
    "    return total \n",
    "\n",
    "print(sum2(1, 2, 3, 4))\n",
    "\n",
    "# keyword argument & default argument value\n",
    "def add_student(name, gender='M', age=20):\n",
    "    return {'name': name, 'gender': gender, 'age': age}\n",
    "\n",
    "print(add_student(name='Alex'))\n",
    "print(add_student(name='Jade', age=18, gender='F'))\n",
    "\n",
    "# lambda: anonymous function \n",
    "full_name = lambda student: student['first_name'] + ' ' + student['second_name']\n",
    "student1 = {'first_name': 'Alan', 'second_name': 'Zhong', 'gender': 'M', 'age': 20, 'grade': 'A'}\n",
    "print(full_name(student1))"
   ]
  },
  {
   "cell_type": "code",
   "execution_count": null,
   "metadata": {},
   "outputs": [],
   "source": [
    "# function decorator: simply a wrapper of existing function\n",
    "# decorator can dynamically alter the functionality of a function, method or class \n",
    "# without directly use subclass\n",
    "\n",
    "from time import time\n",
    "\n",
    "# original function \n",
    "def greeting(name):\n",
    "    return \"Hello, {0}!\".format(name)\n",
    "\n",
    "print(greeting(\"Zhong\"))\n",
    "\n",
    "def decorate_with_bold(func):\n",
    "    def func_wrapper(text):\n",
    "        return \"<strong>{0}</strong>\".format(func(text))\n",
    "    return func_wrapper\n",
    "\n",
    "def time_logging(func):\n",
    "    def func_wrapper(*args, **kwargs): \n",
    "        start_time = time()\n",
    "        result = func(*args, **kwargs)\n",
    "        elapsed_time = (time() - start_time) * 1000\n",
    "        print(f\"{func.__name__} time elapsed (ms): {elapsed_time:.5f}\")\n",
    "        return result \n",
    "    return func_wrapper\n",
    "\n",
    "@time_logging\n",
    "@decorate_with_bold\n",
    "def greeting_with_decorator(name): \n",
    "    return \"Hello, {0}!\".format(name)\n",
    "    \n",
    "print(greeting_with_decorator(\"Zhong\"))\n"
   ]
  },
  {
   "cell_type": "code",
   "execution_count": null,
   "metadata": {},
   "outputs": [],
   "source": [
    "# clousure: inner function\n",
    "# function is also object, which means: \n",
    "# function can be assigned to a variable\n",
    "# function can be part of another object\n",
    "# function can be another function's argument \n",
    "# function can be a return value of another function \n",
    "\n",
    "def make_incrementer(step): \n",
    "    # define the nested function \n",
    "    def incrementer(start):\n",
    "        # step is \"non-local\" variable\n",
    "        # it is valid becuase it is from its parent/outer function \n",
    "        start += step\n",
    "        return start \n",
    "    return incrementer \n",
    "\n",
    "incrementer1 = make_incrementer(1)\n",
    "incrementer2 = make_incrementer(2)\n",
    "\n",
    "start = 10\n",
    "print(\"incrementer1: \", incrementer1(start))\n",
    "print(\"incrementer2: \", incrementer2(start))"
   ]
  },
  {
   "cell_type": "markdown",
   "metadata": {},
   "source": [
    "### error & exception\n",
    "\n",
    "- handling exception: <kbd>try ... except ... else ... finally</kbd>\n",
    "- raise execption: <kbd>raise</kbd>"
   ]
  },
  {
   "cell_type": "code",
   "execution_count": null,
   "metadata": {
    "scrolled": true
   },
   "outputs": [],
   "source": [
    "import traceback\n",
    "\n",
    "exception_fired = False \n",
    "exception_handled = False\n",
    "zerodivision_erro_handled = False\n",
    "name_error_handled = False \n",
    "\n",
    "try:\n",
    "    # result = 1 + (2 / 0) # ZeroDivisionError\n",
    "    result = 1 + (2 / spam) # NameError\n",
    "except ZeroDivisionError as e:\n",
    "    # we should not get here \n",
    "    exception_fired = True \n",
    "    print(traceback.format_exc())\n",
    "    result = 0\n",
    "    exception_handled = True\n",
    "    zerodivision_erro_handled = True\n",
    "except NameError as e:\n",
    "    # we should get here \n",
    "    exception_fired = True \n",
    "    print(traceback.format_exc())\n",
    "    result = 3 # default value \n",
    "    exception_handled = True\n",
    "    name_error_handled = True\n",
    "except:\n",
    "    # if any exception other than ZeroDivisionError, NameError\n",
    "    # we should not get here\n",
    "    exception_fired = True \n",
    "    print(traceback.format_exc())\n",
    "    result = 0 # default value \n",
    "    exception_handled = True\n",
    "else:\n",
    "    # if there is no exceptionb\n",
    "    # we should not get here \n",
    "    print(\"we get the result successfully !\")\n",
    "finally:\n",
    "    print(\"final result: \" + str(result))\n",
    "    print(\"exception_fired: \" + str(exception_fired))\n",
    "    print(\"exception_handled: \" + str(exception_handled))\n",
    "    print(\"zerodivision_erro_handled: \" + str(zerodivision_erro_handled))\n",
    "    print(\"name_error_handled: \" + str(name_error_handled))"
   ]
  },
  {
   "cell_type": "code",
   "execution_count": null,
   "metadata": {},
   "outputs": [],
   "source": [
    "import traceback \n",
    "\n",
    "spam = 1\n",
    "try:\n",
    "    result = 1 + (2 / spam) \n",
    "    raise NameError('spam not defined') # explicitly raise an error \n",
    "except Exception as e:\n",
    "    print(e)"
   ]
  },
  {
   "cell_type": "markdown",
   "metadata": {},
   "source": [
    "## OO & Class\n",
    "\n",
    "-   <kbd>Procedural</kbd> vs. <kbd>OOP</kbd> vs. <kbd>FP</kbd>\n",
    "\n",
    "-   OO Principal\n",
    "      -   <kbd>Inherience</kbd>\n",
    "      -   <kbd>Encapsulation</kbd>\n",
    "      -   <kbd>Polymorphism</kbd>\n",
    "\n",
    "- class, instance, attributes, properties, method\n",
    "\n",
    "- <kbd>override</kbd> vs. <kbd>overload</kbd> vs. <kbd>overwrite</kbd> "
   ]
  },
  {
   "cell_type": "code",
   "execution_count": null,
   "metadata": {},
   "outputs": [],
   "source": [
    "# Procedural \n",
    "print(\"<--- Procedural --->\")\n",
    "l = [3, 4, 6, 5]\n",
    "print(\"list: \", l)\n",
    "n = len(l)\n",
    "# Bubble Sort \n",
    "# traverse through all array elements\n",
    "for i in range(n - 1):\n",
    "# last i elements are already in place\n",
    "    for j in range(0, n - i - 1):\n",
    "        # traverse the array from 0 to n - i - 1\n",
    "        # swap if the element found is smaller (smaller num bubble up to the right)\n",
    "        # than the next element\n",
    "        if l[j] < l[j + 1] :\n",
    "            l[j], l[j + 1] = l[j + 1], l[j]\n",
    "print(\"reverse sorted: \", l)\n",
    "\n",
    "# OOP\n",
    "print(\"<--- OOP --->\")\n",
    "l = [3, 4, 6, 5]\n",
    "print(\"list: \", l)\n",
    "print(\"list class: \", l.__class__)\n",
    "l.sort(reverse=True)\n",
    "print(\"reverse sorted: \", l)\n",
    "\n",
    "## FP\n",
    "print(\"<--- FP --->\")\n",
    "l = [3, 4, 6, 5]\n",
    "print(\"list: \", l)\n",
    "l2 = [item for item in sorted(l, reverse=True)]\n",
    "print(\"reverse sorted: \", l2)"
   ]
  },
  {
   "cell_type": "code",
   "execution_count": null,
   "metadata": {},
   "outputs": [],
   "source": [
    "class Student: \n",
    "    \n",
    "    # class attributes \n",
    "    duty = \"Study, Play, Sleep\"\n",
    "    \n",
    "    # constructor/initialization method\n",
    "    def __init__(self, first_name = None, last_name = None):\n",
    "        # instance attributes \n",
    "        self.first_name = first_name\n",
    "        self.last_name = last_name\n",
    "        # \"protected\"/private attributes \n",
    "        self.__courses = self._get_courses()\n",
    "    \n",
    "    def _get_courses(self):\n",
    "        # fetch courses from database: student registration table  \n",
    "        return [\"MTH251\"]\n",
    "    \n",
    "    def register_course(self, course_id, datetime):\n",
    "        # save the course to database: student registration table\n",
    "        self.__courses = self._get_courses()\n",
    "        pass\n",
    "    \n",
    "    # property getter  \n",
    "    @property\n",
    "    def name(self):\n",
    "        return f\"{self.first_name} {self.last_name}\"\n",
    "    \n",
    "    # property setter: without setter, you cannot change property \"name\" directly  \n",
    "    @name.setter\n",
    "    def name(self, name):\n",
    "        self.first_name, self.last_name = name.split()   \n",
    "    \n",
    "    # property deleter: once being called, property \"name\" is removed from Student\n",
    "    @name.deleter   \n",
    "    def name(self):\n",
    "        print(\"cannot access Student.name any more ...\")\n",
    "    \n",
    "    @staticmethod\n",
    "    def show_duties():\n",
    "        return Student.duty\n",
    "    \n",
    "    # magic method\n",
    "    # you can re-create the object by calling eval(“the repr”)\n",
    "    def __repr__(self):\n",
    "        return f\"Student({self.first_name!r}, {self.last_name!r})\"\n",
    "    \n",
    "    # you can define the string that is more descriptive for the object \n",
    "    # as when print(student)\n",
    "    def __str__(self):\n",
    "        return f\"Student: {self.first_name} {self.last_name}\"\n",
    "    \n",
    "student0 = Student() \n",
    "student0.name = \"1st last\"\n",
    "print(\"type: \", type(student0))\n",
    "print(\"student0 is an instance of Student? \", isinstance(student0, Student))\n",
    "print(\"instance attributes: \")\n",
    "print(student0.__dict__)\n",
    "print(\"instance & class attributes: \")\n",
    "print(dir(student0))\n",
    "print(\"Student has middle_name attribute?\", hasattr(student0, 'middle_name'))\n",
    "print(\"name: \" + student0.name)\n",
    "print(\"first_name: \" + student0.first_name)\n",
    "print(\"last_name: \" + student0.last_name)\n",
    "print(\"studne's duties: \" + Student.show_duties())\n",
    "\n",
    "# create student dynamically from an expression \n",
    "student1 = eval(\"Student('First', 'Zhong')\")\n",
    "print(student1)\n",
    "                \n",
    "# create student from class constructor \n",
    "student2 = Student(\"Second\", \"Zhong\")\n",
    "print(student2)\n",
    "\n",
    "class Student2021(Student):\n",
    "    \n",
    "    def study(self):\n",
    "        print(self.name + \": study at home ...\")\n",
    "\n",
    "class Student2022(Student2021):\n",
    "    \n",
    "    def study(self):\n",
    "        print(self.name + \": study at school ...\")\n",
    "        super().study()\n",
    "    \n",
    "s2021 = Student2021() \n",
    "s2021.name = \"student 2021\"\n",
    "print(\"type: \", type(s2021))\n",
    "print(\"Student2021 is a subclass of Student? \", issubclass(Student2021, Student))\n",
    "print(\"s2021 is an instance of Student? \", isinstance(s2021, Student))\n",
    "print(\"s2021 is an instance of Student2021? \", isinstance(s2021, Student2021))\n",
    "print(\"student0 is an instance of Student2022? \", isinstance(student0, Student2021))\n",
    "\n",
    "s2022 = Student2022(\"student\", \"2022\") \n",
    "\n",
    "for s in [s2021, s2022]:\n",
    "    print(s) # __str__ from Student\n",
    "    \n",
    "\n",
    "for s in [s2021, s2022]:\n",
    "    s.study() # study \n"
   ]
  },
  {
   "cell_type": "code",
   "execution_count": null,
   "metadata": {},
   "outputs": [],
   "source": [
    "# override vs. overload vs. overwrite \n",
    "\n",
    "import math\n",
    "from multipledispatch import dispatch\n",
    "\n",
    "class Shape:\n",
    "    \n",
    "    def __init__(self):\n",
    "        self.type = \"unknown\"\n",
    "    \n",
    "    @staticmethod\n",
    "    def area(s):\n",
    "        shape_class = s.__class__.__name__\n",
    "        if 'Square' == shape_class:\n",
    "            return (math.pow(s.length, 2))\n",
    "        elif 'Circle' == shape_class:\n",
    "            return math.pi * (math.pow(s.radius, 2))\n",
    "        print(\"sorry, unknown shape !\")\n",
    "        return None\n",
    "    \n",
    "    # child class to override \n",
    "    def area2(): \n",
    "        pass \n",
    "    \n",
    "class Square(Shape):\n",
    "    \n",
    "    def __init__(self, length = 0):\n",
    "        self.type = \"Square\"\n",
    "        self.length = length\n",
    "    \n",
    "    @dispatch()\n",
    "    def area2(self):\n",
    "        return (math.pow(s.length, 2))\n",
    "    \n",
    "    @dispatch(bool)\n",
    "    def area2(self, roundup: bool):\n",
    "        if roundup: \n",
    "            return math.ceil(self.area2())\n",
    "        else:\n",
    "            return math.floor(self.area2())\n",
    "    \n",
    "class Circle(Shape):\n",
    "    \n",
    "    def __init__(self, radius = 0):\n",
    "        self.type = \"Circle\"\n",
    "        self.radius = radius\n",
    "    \n",
    "    @dispatch()\n",
    "    def area2(self):\n",
    "        return (math.pi * (math.pow(s.radius, 2)))\n",
    "    \n",
    "    @dispatch(bool)\n",
    "    def area2(self, roundup: bool):\n",
    "        if roundup: \n",
    "            return math.ceil(self.area2())\n",
    "        else:\n",
    "            return math.floor(self.area2())\n",
    "\n",
    "shape1 = Circle(6)\n",
    "shape2 = Square(12)\n",
    "\n",
    "print(\"<--- w/o override -->\")\n",
    "for s in [shape1, shape2]: \n",
    "    print(\"shape type: \", s.type)\n",
    "    print(\"shape area: \", Shape.area(s))\n",
    "\n",
    "print(\"<--- override -->\")\n",
    "for s in [shape1, shape2]: \n",
    "    print(\"shape type: \", s.type)\n",
    "    print(\"shape area: \", s.area2())\n",
    "\n",
    "print(\"<--- overload -->\")\n",
    "for s in [shape1, shape2]: \n",
    "    print(\"shape type: \", s.type)\n",
    "    print(\"shape area (roundup): \", s.area2(True))\n",
    "    \n",
    "def my_area2(self):\n",
    "    print(\"change \" + self.type + \"area\") \n",
    "    return 100\n",
    "\n",
    "Square.area2 = my_area2\n",
    "Circle.area2 = my_area2 \n",
    "\n",
    "print(\"<--- overwrite -->\")\n",
    "for s in [shape1, shape2]: \n",
    "    print(\"shape area: \", s.area2())"
   ]
  },
  {
   "cell_type": "markdown",
   "metadata": {},
   "source": [
    "## Misc. "
   ]
  },
  {
   "cell_type": "markdown",
   "metadata": {},
   "source": [
    "### Modules & Packages\n",
    "\n",
    "- modular programming: <kbd>function</kbd> → <kbd>class</kbd> → <kbd>module</kbd> → <kbd>package</kbd>\n",
    "\n",
    "- modules\n",
    "    - Python module (default main module) \n",
    "    - C module \n",
    "    - Build-in module\n",
    "    \n",
    "- packages "
   ]
  },
  {
   "cell_type": "code",
   "execution_count": 1,
   "metadata": {},
   "outputs": [
    {
     "name": "stdout",
     "output_type": "stream",
     "text": [
      "from module:  module2022\n",
      "m2022 file:  /Volumes/MySpace2021/workspace/SUSS-MTH251/github/notebooks/module2022.py\n",
      "Student2022 Class a\n"
     ]
    }
   ],
   "source": [
    "# look up sys.path for module2022 \n",
    "import module2022 as m2022\n",
    "print(\"m2022 file: \", m2022.__file__)\n",
    "\n",
    "from module2022 import f2022, Student2022\n",
    "s2022 = Student2022()\n",
    "print(s2022.a)"
   ]
  },
  {
   "cell_type": "markdown",
   "metadata": {},
   "source": [
    "### Namespaces & Scopes"
   ]
  },
  {
   "cell_type": "code",
   "execution_count": 9,
   "metadata": {},
   "outputs": [
    {
     "name": "stdout",
     "output_type": "stream",
     "text": [
      "<--- built-ins -->\n",
      "['ArithmeticError', 'AssertionError', 'AttributeError', 'BaseException', 'BlockingIOError', 'BrokenPipeError', 'BufferError', 'BytesWarning', 'ChildProcessError', 'ConnectionAbortedError', 'ConnectionError', 'ConnectionRefusedError', 'ConnectionResetError', 'DeprecationWarning', 'EOFError', 'Ellipsis', 'EnvironmentError', 'Exception', 'False', 'FileExistsError', 'FileNotFoundError', 'FloatingPointError', 'FutureWarning', 'GeneratorExit', 'IOError', 'ImportError', 'ImportWarning', 'IndentationError', 'IndexError', 'InterruptedError', 'IsADirectoryError', 'KeyError', 'KeyboardInterrupt', 'LookupError', 'MemoryError', 'ModuleNotFoundError', 'NameError', 'None', 'NotADirectoryError', 'NotImplemented', 'NotImplementedError', 'OSError', 'OverflowError', 'PendingDeprecationWarning', 'PermissionError', 'ProcessLookupError', 'RecursionError', 'ReferenceError', 'ResourceWarning', 'RuntimeError', 'RuntimeWarning', 'StopAsyncIteration', 'StopIteration', 'SyntaxError', 'SyntaxWarning', 'SystemError', 'SystemExit', 'TabError', 'TimeoutError', 'True', 'TypeError', 'UnboundLocalError', 'UnicodeDecodeError', 'UnicodeEncodeError', 'UnicodeError', 'UnicodeTranslateError', 'UnicodeWarning', 'UserWarning', 'ValueError', 'Warning', 'ZeroDivisionError', '__IPYTHON__', '__build_class__', '__debug__', '__doc__', '__import__', '__loader__', '__name__', '__package__', '__spec__', 'abs', 'all', 'any', 'ascii', 'bin', 'bool', 'breakpoint', 'bytearray', 'bytes', 'callable', 'chr', 'classmethod', 'compile', 'complex', 'copyright', 'credits', 'delattr', 'dict', 'dir', 'display', 'divmod', 'enumerate', 'eval', 'exec', 'filter', 'float', 'format', 'frozenset', 'get_ipython', 'getattr', 'globals', 'hasattr', 'hash', 'help', 'hex', 'id', 'input', 'int', 'isinstance', 'issubclass', 'iter', 'len', 'license', 'list', 'locals', 'map', 'max', 'memoryview', 'min', 'next', 'object', 'oct', 'open', 'ord', 'pow', 'print', 'property', 'range', 'repr', 'reversed', 'round', 'set', 'setattr', 'slice', 'sorted', 'staticmethod', 'str', 'sum', 'super', 'tuple', 'type', 'vars', 'zip']\n",
      "<--- globals -->\n",
      "dict_keys(['__name__', '__doc__', '__package__', '__loader__', '__spec__', '__builtin__', '__builtins__', '_ih', '_oh', '_dh', 'In', 'Out', 'get_ipython', 'exit', 'quit', '_', '__', '___', '_i', '_ii', '_iii', '_i1', 'm2022', 'f2022', 'Student2022', 's2022', '_i2', 'a', 'f1', 'f2', 'Student', 's', '_i3', '_i4', 'num', 'outer_func', '_i5', '_i6', '_i7', '_i8', '_i9'])\n",
      "b:  None\n",
      "<--- f1 locals -->\n",
      "{'a': 'f1 a', 'b': 'f1 b'}\n",
      "<--- f2 locals -->\n",
      "{'a': 'f2 a', 'b': 'f2 b'}\n",
      "<--- instance locals -->\n",
      "{'self': <__main__.Student object at 0x7fc228363790>, 'a': 'Student func a', 'b': 'Student func b'}\n",
      "<--- module2022 -->\n",
      "m2022:  <module 'module2022' from '/Volumes/MySpace2021/workspace/SUSS-MTH251/github/notebooks/module2022.py'>\n",
      "import m2022:  <module 'module2022' from '/Volumes/MySpace2021/workspace/SUSS-MTH251/github/notebooks/module2022.py'>\n",
      "<--- f2022 locals -->\n",
      "{'a': 'f2022 a', 'b': 'f2022 b'}\n",
      "<--- instance locals -->\n",
      "{'self': <module2022.Student2022 object at 0x7fc228363ac0>, 'a': 'Student2022 func a', 'b': 'Student2022 func b'}\n",
      "<--- globals -->\n",
      "add b: global b\n",
      "<--- globals -->\n",
      "remve b: None\n",
      "<--- enclosing -->\n",
      "global num:  100\n",
      "outer_func num:  200\n",
      "inner_func num:  100\n"
     ]
    }
   ],
   "source": [
    "print(\"<--- built-ins -->\")\n",
    "print(dir(__builtins__))\n",
    "\n",
    "a = \"global a\" \n",
    "\n",
    "def f1():\n",
    "    a = \"f1 a\"\n",
    "    b = \"f1 b\"\n",
    "    print(\"<--- f1 locals -->\")\n",
    "    print(locals())\n",
    "    \n",
    "def f2():\n",
    "    a = \"f2 a\"\n",
    "    b = \"f2 b\"\n",
    "    print(\"<--- f2 locals -->\")\n",
    "    print(locals())\n",
    "\n",
    "class Student:\n",
    "    \n",
    "    a = \"Student Class a\"\n",
    "    \n",
    "    def f(self): \n",
    "        a = \"Student func a\"\n",
    "        b = \"Student func b\"\n",
    "        print(\"<--- instance locals -->\")\n",
    "        print(locals())\n",
    "\n",
    "print(\"<--- globals -->\")\n",
    "print(globals().keys())\n",
    "print(\"b: \", globals().get(\"b\"))\n",
    "\n",
    "# locals \n",
    "f1()\n",
    "f2()\n",
    "s = Student()\n",
    "s.f()\n",
    "\n",
    "# module \n",
    "print(\"<--- module2022 -->\")\n",
    "print(\"m2022: \", globals().get(\"m2022\"))\n",
    "import module2022 as m2022\n",
    "print(\"import m2022: \", globals().get(\"m2022\"))\n",
    "m2022.f2022()\n",
    "s2022 = m2022.Student2022() \n",
    "s2022.f()\n",
    "\n",
    "# dynamic\n",
    "b = \"global b\"\n",
    "print(\"<--- globals -->\")\n",
    "print(\"add b:\", globals().get(\"b\"))\n",
    "\n",
    "del b\n",
    "print(\"<--- globals -->\")\n",
    "print(\"remve b:\", globals().get(\"b\"))\n",
    "\n",
    "# enclosign scope \n",
    "print(\"<--- enclosing -->\")\n",
    "num = 100\n",
    "print(\"global num: \", num)\n",
    "def outer_func():\n",
    "    num = 200\n",
    "    print(\"outer_func num: \", num)\n",
    "    def inner_func():\n",
    "        global num\n",
    "        print(\"inner_func num: \", num)\n",
    "    inner_func()\n",
    "\n",
    "outer_func()\n"
   ]
  },
  {
   "cell_type": "markdown",
   "metadata": {},
   "source": [
    "## Copy vs. Deep Copy"
   ]
  },
  {
   "cell_type": "markdown",
   "metadata": {},
   "source": [
    "### modules & packages\n",
    "\n",
    "- modular programming: <kbd>function</kbd> → <kbd>module</kbd> → <kbd>package</kbd>"
   ]
  },
  {
   "cell_type": "markdown",
   "metadata": {},
   "source": [
    "## PEP8 Style Guide for Python Code ([link](https://www.python.org/dev/peps/pep-0008/))"
   ]
  },
  {
   "cell_type": "code",
   "execution_count": null,
   "metadata": {},
   "outputs": [],
   "source": [
    "import this\n",
    "s = this.s\n",
    "d = {}\n",
    "for c in (65, 97):\n",
    "    for i in range(26):\n",
    "        d[chr(i+c)] = chr((i+13) % 26 + c)\n",
    "\n",
    "print(\"\\n\".join((\"\".join([d.get(c, c) for c in s])).split(\"\\n\")[0:5]))"
   ]
  },
  {
   "cell_type": "code",
   "execution_count": null,
   "metadata": {},
   "outputs": [],
   "source": [
    "import antigravity"
   ]
  },
  {
   "cell_type": "markdown",
   "metadata": {},
   "source": [
    "# Big-O"
   ]
  },
  {
   "cell_type": "code",
   "execution_count": null,
   "metadata": {},
   "outputs": [],
   "source": [
    "# O(1)\n",
    "n = 10\n",
    "print(\"Hi, the number is \", n)\n",
    "n = n * 10\n",
    "print(\"Hi, the number is 10 times bigger now\", n)"
   ]
  },
  {
   "cell_type": "code",
   "execution_count": null,
   "metadata": {},
   "outputs": [],
   "source": [
    "# O(n)\n",
    "n = 10\n",
    "for i in range(n):\n",
    "    print(\"index is \", i)"
   ]
  },
  {
   "cell_type": "code",
   "execution_count": null,
   "metadata": {},
   "outputs": [],
   "source": [
    "# O(n^2)\n",
    "n = 10\n",
    "for i in range(n):\n",
    "    for j in range(i,n):\n",
    "        print(\"index is \", i, j)"
   ]
  },
  {
   "cell_type": "code",
   "execution_count": null,
   "metadata": {},
   "outputs": [],
   "source": [
    "# O(logN)\n",
    "# example1\n",
    "n = 100\n",
    "i = 1\n",
    "j = 0\n",
    "while (i < n): \n",
    "    i = i * 2\n",
    "    j = j + 1\n",
    "print(\"final: \", i)\n",
    "print(\"count: \", j)\n",
    "\n",
    "# example2\n",
    "n = 100\n",
    "i = 1\n",
    "j = 0\n",
    "while (i < n): \n",
    "    i = i * 10\n",
    "    j = j + 1\n",
    "print(\"final: \", i)\n",
    "print(\"count: \", j)"
   ]
  },
  {
   "cell_type": "code",
   "execution_count": null,
   "metadata": {},
   "outputs": [],
   "source": [
    "# O(?): O(T*depth) \n",
    "# F(n) = F(n-1) + F(n-2)\n",
    "def fib(n): \n",
    "    if (n < 2):\n",
    "        return n\n",
    "    x = fib(n-1) + fib(n-2)\n",
    "    return x\n",
    "\n",
    "print(\"fib(10): \", fib(10))"
   ]
  },
  {
   "cell_type": "markdown",
   "metadata": {},
   "source": [
    "# Complexity Analysis \n",
    "- best case \n",
    "- worst case \n",
    "- average case \n",
    "- amortized "
   ]
  },
  {
   "cell_type": "code",
   "execution_count": null,
   "metadata": {},
   "outputs": [],
   "source": [
    "def find(l, x):\n",
    "    for i in l: \n",
    "        if i == x: \n",
    "            return True\n",
    "    return False \n",
    "\n",
    "ints = list(range(100))\n",
    "\n",
    "print(\"best case  -   0 in list: \", find(ints, 0))\n",
    "print(\"worst case -  99 in list: \", find(ints, 99))\n",
    "print(\"avg case   -  50 in list: \", find(ints, 50))\n",
    "print(\"avg case   - 100 in list: \", find(ints, 100))"
   ]
  }
 ],
 "metadata": {
  "kernelspec": {
   "display_name": "Python 3",
   "language": "python",
   "name": "python3"
  },
  "language_info": {
   "codemirror_mode": {
    "name": "ipython",
    "version": 3
   },
   "file_extension": ".py",
   "mimetype": "text/x-python",
   "name": "python",
   "nbconvert_exporter": "python",
   "pygments_lexer": "ipython3",
   "version": "3.8.5"
  }
 },
 "nbformat": 4,
 "nbformat_minor": 4
}
