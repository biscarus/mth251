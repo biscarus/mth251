{
 "cells": [
  {
   "cell_type": "markdown",
   "metadata": {},
   "source": [
    "# Python\n",
    "1. Data Type\n",
    "2. Collections\n",
    "3. Program Structure \n",
    "4. OO\n",
    "5. PEP8\n",
    "\n",
    "Cheatsheet: \n",
    "\n",
    "- 🧾[Python Crash Course - Cheat Sheets](https://github.com/ehmatthes/pcc/releases/download/v1.0.0/beginners_python_cheat_sheet_pcc_all.pdf)  \n",
    "\n",
    "- 🧾[Comprehensive Python Cheatsheet](https://github.com/gto76/python-cheatsheet)  "
   ]
  },
  {
   "cell_type": "markdown",
   "metadata": {},
   "source": [
    "## Data Type\n",
    "\n",
    "### Number\n",
    "\n",
    "number: int, float, complex  \n",
    "operator: +, -, *, /, //, %, **"
   ]
  },
  {
   "cell_type": "code",
   "execution_count": null,
   "metadata": {
    "scrolled": true
   },
   "outputs": [],
   "source": [
    "n = 10\n",
    "print(n)\n",
    "type(n)"
   ]
  },
  {
   "cell_type": "code",
   "execution_count": null,
   "metadata": {},
   "outputs": [],
   "source": [
    "n = 1 + 2\n",
    "print(n)\n",
    "type(n)"
   ]
  },
  {
   "cell_type": "code",
   "execution_count": null,
   "metadata": {},
   "outputs": [],
   "source": [
    "n = 0.1\n",
    "type(n)\n",
    "type(0.1)"
   ]
  },
  {
   "cell_type": "code",
   "execution_count": null,
   "metadata": {},
   "outputs": [],
   "source": [
    "n = 1 + 0.1\n",
    "print(n)\n",
    "type(n)"
   ]
  },
  {
   "cell_type": "code",
   "execution_count": null,
   "metadata": {},
   "outputs": [],
   "source": [
    "n = 2**3\n",
    "print(n)\n",
    "type(n)"
   ]
  },
  {
   "cell_type": "code",
   "execution_count": null,
   "metadata": {},
   "outputs": [],
   "source": [
    "type(2/1)"
   ]
  },
  {
   "cell_type": "code",
   "execution_count": null,
   "metadata": {},
   "outputs": [],
   "source": [
    "n = 3//2\n",
    "print(n)\n",
    "type(n)"
   ]
  },
  {
   "cell_type": "code",
   "execution_count": null,
   "metadata": {
    "scrolled": true
   },
   "outputs": [],
   "source": [
    "n = 2//0.5\n",
    "print(n)\n",
    "type(n)"
   ]
  },
  {
   "cell_type": "code",
   "execution_count": null,
   "metadata": {},
   "outputs": [],
   "source": [
    "n = 10%3\n",
    "print(n)\n",
    "type(n)"
   ]
  },
  {
   "cell_type": "code",
   "execution_count": null,
   "metadata": {},
   "outputs": [],
   "source": [
    "type(10+1j)"
   ]
  },
  {
   "cell_type": "markdown",
   "metadata": {},
   "source": [
    "### String\n",
    "\n",
    "'', \"\", \\', \\t, \\n, \\r"
   ]
  },
  {
   "cell_type": "code",
   "execution_count": null,
   "metadata": {},
   "outputs": [],
   "source": [
    "type(\"10\")"
   ]
  },
  {
   "cell_type": "code",
   "execution_count": null,
   "metadata": {},
   "outputs": [],
   "source": [
    "type(\"let's go\")"
   ]
  },
  {
   "cell_type": "code",
   "execution_count": null,
   "metadata": {},
   "outputs": [],
   "source": [
    "type('let\\'s go')"
   ]
  },
  {
   "cell_type": "code",
   "execution_count": null,
   "metadata": {},
   "outputs": [],
   "source": [
    "\"Hello\" + \", \" + \"world!\""
   ]
  },
  {
   "cell_type": "code",
   "execution_count": null,
   "metadata": {},
   "outputs": [],
   "source": [
    "\"123\" * 3"
   ]
  },
  {
   "cell_type": "markdown",
   "metadata": {},
   "source": [
    "### Boolean \n",
    "\n",
    "boolean: True, False  \n",
    "operator: and, or, not  \n",
    "compare: >, <, >=, <=, ==, !="
   ]
  },
  {
   "cell_type": "code",
   "execution_count": null,
   "metadata": {},
   "outputs": [],
   "source": [
    "1 == 2"
   ]
  },
  {
   "cell_type": "code",
   "execution_count": null,
   "metadata": {},
   "outputs": [],
   "source": [
    "1 != 2 "
   ]
  },
  {
   "cell_type": "code",
   "execution_count": null,
   "metadata": {},
   "outputs": [],
   "source": [
    "price = 15\n",
    "price > 10 and price < 20"
   ]
  },
  {
   "cell_type": "code",
   "execution_count": null,
   "metadata": {},
   "outputs": [],
   "source": [
    "not False"
   ]
  },
  {
   "cell_type": "markdown",
   "metadata": {},
   "source": [
    "### None"
   ]
  },
  {
   "cell_type": "code",
   "execution_count": 103,
   "metadata": {
    "scrolled": true
   },
   "outputs": [
    {
     "name": "stdout",
     "output_type": "stream",
     "text": [
      "True\n",
      "False\n"
     ]
    }
   ],
   "source": [
    "x = None\n",
    "type(x)\n",
    "print(x is None)\n",
    "x = 1\n",
    "print(x is None)"
   ]
  },
  {
   "cell_type": "markdown",
   "metadata": {},
   "source": [
    "### type converson\n",
    "\n",
    "int(), float(), str(), bool(), hex(), ord() "
   ]
  },
  {
   "cell_type": "code",
   "execution_count": null,
   "metadata": {},
   "outputs": [],
   "source": [
    "birth_year = input(\"Enter your birth year: \")\n",
    "age = 2021 - int(birth_year)  \n",
    "print(\"Your age: \" + str(age))"
   ]
  },
  {
   "cell_type": "code",
   "execution_count": null,
   "metadata": {},
   "outputs": [],
   "source": [
    "first = float(input(\"First: \")) \n",
    "second = float(input(\"Second: \"))\n",
    "total = first + second\n",
    "print (\"Sum: \" + str(total))"
   ]
  },
  {
   "cell_type": "code",
   "execution_count": null,
   "metadata": {},
   "outputs": [],
   "source": [
    "course = \"MTH251 data structure and algorithm I\"\n",
    "print(course.replace('MTH251', 'Python'))\n",
    "print(\"MTH251 in course: \" + str(course.find('MTH251')))\n",
    "print(course)"
   ]
  },
  {
   "cell_type": "code",
   "execution_count": null,
   "metadata": {},
   "outputs": [],
   "source": [
    "x, y, z = 1, 2, \"123\"\n",
    "print(x, y, z)\n",
    "x, y = y, x\n",
    "print(x, y, z)\n",
    "a = b = c = \"sg\"\n",
    "print(a, b, c)"
   ]
  },
  {
   "cell_type": "code",
   "execution_count": null,
   "metadata": {},
   "outputs": [],
   "source": [
    "x = \"1\"\n",
    "y = \"2\"\n",
    "print(id(\"1\"))\n",
    "print(id(\"2\"))\n",
    "print(id(x))\n",
    "print(id(y))\n",
    "x = \"2\"\n",
    "y = \"1\"\n",
    "print(id(x))\n",
    "print(id(y))\n",
    "x = y\n",
    "print(id(x))\n",
    "print(id(y))"
   ]
  },
  {
   "cell_type": "markdown",
   "metadata": {},
   "source": [
    "## Collection\n",
    "\n",
    "list, tuple, set, dictionary"
   ]
  },
  {
   "cell_type": "markdown",
   "metadata": {},
   "source": [
    "### List\n",
    "\n",
    "- sequence type \n",
    "- sortable \n",
    "- grow and shrink as needed \n",
    "- most widely used"
   ]
  },
  {
   "cell_type": "code",
   "execution_count": null,
   "metadata": {},
   "outputs": [],
   "source": [
    "# constructing \n",
    "letters = ['a', 'b', 'c']\n",
    "items = list(('1', 2, 'abc', ['x', 'y']))\n",
    "ids = [i for i in range(10)]\n",
    "odds = [i for i in range(10) if i%2 == 1]\n",
    "print(letters)\n",
    "print(items)\n",
    "print(ids)\n",
    "print(odds)\n",
    "print(len(letters))\n",
    "print(len(items))\n",
    "print(len(ids))\n",
    "print(len(odds))"
   ]
  },
  {
   "cell_type": "code",
   "execution_count": null,
   "metadata": {},
   "outputs": [],
   "source": [
    "# items: indexing & slicing \n",
    "ids = [0, 1, 2, 3, 4, 5, 6]\n",
    "items = ['1st', '2nd', '3rd', '4th', '5th', '6th', '7th']\n",
    "print(\"7 items, index 0 ~ 6\")\n",
    "for i, item in enumerate(items):\n",
    "    print(i, \"-\", item)\n",
    "print(\"whole list, items[:] same as items[0:n], n is the len\")\n",
    "print(items)\n",
    "print(items[:])\n",
    "print(items[0:7])\n",
    "print(items[0:])\n",
    "print(items[:7])\n",
    "print(\"first item, index starts with 0 !!!\")\n",
    "print(ids[0])\n",
    "print(items[0])\n",
    "print(\"xth item, index is x-1 and vice versa\")\n",
    "print(ids[5])\n",
    "print(items[5])\n",
    "print(\"item from 2 to 4-1, exclude index 4/5th item\")\n",
    "print(ids[2:4])\n",
    "print(items[2:4])\n",
    "print(\"item from 0 to 1, same as items[0:2]\")\n",
    "print(ids[:2])\n",
    "print(items[:2])\n",
    "print(items[0:2])\n",
    "print(\"item from 3 till the last, same as items[3:n], n is len\")\n",
    "print(ids[3:])\n",
    "print(items[3:])\n",
    "print(items[3:7])\n",
    "print(\"last item, index is n-1 or -1 !!!\") \n",
    "print(ids[-1])\n",
    "print(items[-1])\n",
    "print(items[6])\n",
    "print(\"item from -3 to -4, exclude index -2\")\n",
    "print(ids[-4:-2])\n",
    "print(items[-4:-2])\n",
    "print(\"last 3 items\")\n",
    "print(ids[-3:])\n",
    "print(items[-3:])\n",
    "print(\"all except last 3 items, same as nums[0:-3]\") \n",
    "print(ids[:-3])\n",
    "print(items[:-3])\n",
    "print(items[0:-3])\n",
    "# start:end:step (step can be positive/negative)\n",
    "print(\"step is 2\")\n",
    "print(ids[::2])\n",
    "print(items[::2])\n",
    "print(\"step is 2, more examples\")\n",
    "print(ids[1:5:2])\n",
    "print(items[1:5:2])\n",
    "print(ids[-3::2])\n",
    "print(items[-3::2])\n",
    "print(\"step is -2\")\n",
    "print(ids[::-2])\n",
    "print(items[::-2])\n",
    "print(\"step is -2, more examples\")\n",
    "print(ids[5:1:-2])\n",
    "print(items[5:1:-2])\n",
    "print(ids[-2::-2])\n",
    "print(items[-2::-2])"
   ]
  },
  {
   "cell_type": "code",
   "execution_count": null,
   "metadata": {},
   "outputs": [],
   "source": [
    "# items\n",
    "ids = [0, 1, 2, 3, 4, 5, 6]\n",
    "items = ['1st', '2nd', '3rd', '4th', '5th', '6th', '7th']\n",
    "\n",
    "# checking \n",
    "print(5 in ids) # True\n",
    "print('8th' in items) # False\n",
    "print(items.index('2nd')) # 1\n",
    "# this would throw error\n",
    "# print(items.index('8th'))    \n",
    "\n",
    "# count\n",
    "ids2 = ids + ids\n",
    "print(ids2.count(0)) # 2 \n",
    "\n",
    "# iterating \n",
    "# loop by item \n",
    "for i in items: \n",
    "    print(\"index: \" + str(items.index(i)))\n",
    "\n",
    "# loop by index\n",
    "for i in range(len(items)):\n",
    "    print(\"item: \" + items[i])\n",
    "\n",
    "# loop by index & item \n",
    "for i, item in enumerate(items):\n",
    "    print(i, \"-\", item)\n",
    "    \n",
    "# add or remove items \n",
    "print(items)\n",
    "items.append('8th')\n",
    "print(items)\n",
    "items.extend(['9th', '10th', '11th'])\n",
    "print(items)\n",
    "items.insert(1, 'b')\n",
    "print(items)\n",
    "\n",
    "# pop, remove & del \n",
    "items.pop() # remove last item \n",
    "print(items)\n",
    "items.remove('b') # remove 'b'\n",
    "print(items)\n",
    "del(items[3]) # remove \"4th\" \n",
    "print(items)\n",
    "\n",
    "# clear\n",
    "ids.clear()\n",
    "print(ids)"
   ]
  },
  {
   "cell_type": "code",
   "execution_count": null,
   "metadata": {},
   "outputs": [],
   "source": [
    "# adding/cancatenating, multiplying\n",
    "list1 = [1, 2]\n",
    "list2 = [3, 4]\n",
    "print(list1 + list2)\n",
    "print(list1 * 2 + list2 * 2)"
   ]
  },
  {
   "cell_type": "code",
   "execution_count": null,
   "metadata": {},
   "outputs": [],
   "source": [
    "ids = [0, 1, 2, 3]\n",
    "items = ['1st', '2nd', '3rd', '4th']\n",
    "\n",
    "# many built-in functions \n",
    "\n",
    "# min & max \n",
    "print(min(ids))\n",
    "print(max(ids))\n",
    "\n",
    "# sum \n",
    "print(sum(ids))\n",
    "# this would throw error\n",
    "# print(sum(items))\n",
    "\n",
    "# sorting\n",
    "ids2 = ids * 2\n",
    "ids2.sort()\n",
    "print(ids2)\n",
    "ids2.sort(reverse=True)\n",
    "print(ids2)\n",
    "\n",
    "# reverse \n",
    "ids.reverse() # same as ids = ids[::-1]\n",
    "print(ids)"
   ]
  },
  {
   "cell_type": "markdown",
   "metadata": {},
   "source": [
    "## Program Structure\n",
    "1. variable\n",
    "2. statement & comments\n",
    "3. if..elif..else\n",
    "4. while, for loop\n",
    "5. function\n",
    "6. import \n",
    "7. exception"
   ]
  },
  {
   "cell_type": "markdown",
   "metadata": {},
   "source": [
    "### varable"
   ]
  },
  {
   "cell_type": "code",
   "execution_count": null,
   "metadata": {},
   "outputs": [],
   "source": [
    "name = input(\"Enter your name: \")\n",
    "print(\"Hello, %s!\" % name)"
   ]
  },
  {
   "cell_type": "markdown",
   "metadata": {},
   "source": [
    "### if..elif..else"
   ]
  },
  {
   "cell_type": "code",
   "execution_count": null,
   "metadata": {},
   "outputs": [],
   "source": [
    "temperature = float(input(\"temperature of today: \"))\n",
    "\n",
    "if (temperature > 32): \n",
    "    print(\"it is a hot day\")\n",
    "    print(\"pls drink watr\")\n",
    "elif (temperature > 22): \n",
    "    print(\"it is a nice day\")\n",
    "else: \n",
    "    print(\"it is a cold day\")"
   ]
  },
  {
   "cell_type": "markdown",
   "metadata": {},
   "source": [
    "### while, for loop "
   ]
  },
  {
   "cell_type": "code",
   "execution_count": null,
   "metadata": {},
   "outputs": [],
   "source": [
    "i = 100 \n",
    "while (i < 200): \n",
    "    print(i)\n",
    "    i += 10\n",
    "nums = [0, 1, 2, 3, 4, 5, 6]\n",
    "for i in nums:\n",
    "    print(i)"
   ]
  },
  {
   "cell_type": "markdown",
   "metadata": {},
   "source": [
    "### function"
   ]
  },
  {
   "cell_type": "code",
   "execution_count": null,
   "metadata": {},
   "outputs": [],
   "source": [
    "def sum1(a, b): \n",
    "    return a + b\n",
    "\n",
    "print(sum1(1, 2))\n",
    "\n",
    "\n",
    "def sum2(*nums):\n",
    "    total = 0\n",
    "    for i in nums: \n",
    "        total += i\n",
    "    return total \n",
    "\n",
    "print(sum2(1, 2, 3, 4))\n",
    "\n",
    "\n",
    "def add_student(fullname, gender='M', age=20):\n",
    "    return {'name': fullname, 'gender': gender, 'age': age}\n",
    "\n",
    "print(add_student(fullname='Alex'))\n",
    "print(add_student(fullname='Jade', age=20, gender='F'))\n",
    "\n",
    "full_name = lambda student: student['first_name'] + ' ' + student['second_name']\n",
    "student1 = {'first_name': 'Alan', 'second_name': 'Zhong', 'gender': 'M', 'age': 20, 'grade': 'A'}\n",
    "print(full_name(student1))"
   ]
  },
  {
   "cell_type": "markdown",
   "metadata": {},
   "source": [
    "## OO & Class\n",
    "\n",
    "- inheritance \n",
    "- encapsulation \n",
    "- Polymorphism "
   ]
  },
  {
   "cell_type": "code",
   "execution_count": null,
   "metadata": {},
   "outputs": [],
   "source": [
    "# define the class\n",
    "class Person: \n",
    "    # attributes \n",
    "    name = ''\n",
    "    gender = ''\n",
    "    age = 0 \n",
    "    # methods \n",
    "    def greet(self): \n",
    "        print(\"Hi, my name is \" + self.name)\n",
    "\n",
    "# create instance\n",
    "p1 = Person()\n",
    "# assign attributes \n",
    "p1.name = 'Alex'\n",
    "p1.gender = 'M'\n",
    "p1.age = 20\n",
    "# call methods \n",
    "p1.greet()\n",
    "\n",
    "import copy\n",
    "p2 = copy.deepcopy(p1)\n",
    "p2.name = 'Bob'\n",
    "p2.greet()\n",
    "\n",
    "# child class \n",
    "class Student(Person):\n",
    "    # attributes\n",
    "    grade = ''\n",
    "    # methods \n",
    "    def score(self, s): \n",
    "        if s > 80: \n",
    "            self.grade = 'A'\n",
    "        elif s > 70:\n",
    "            self.grade = 'B'\n",
    "        elif s > 60:\n",
    "            self.grade = 'C'\n",
    "        else:\n",
    "            self.grade = 'D'\n",
    "    def greet(self):\n",
    "        Person.greet(self)\n",
    "        print(\"my grade is \" + self.grade)\n",
    "\n",
    "# create instance\n",
    "s1 = Student()\n",
    "# assign attributes \n",
    "s1.name = 'Alex'\n",
    "s1.gender = 'M'\n",
    "s1.age = 20\n",
    "# call methods \n",
    "s1.score(100)\n",
    "s1.greet()\n",
    "\n",
    "# Polymorphism \n",
    "class Teacher(Person):\n",
    "    def greet(self):\n",
    "        Person.greet(self)\n",
    "        print(\"I am teaching class MTH\")\n",
    "\n",
    "def greet(p):\n",
    "    p.greet()\n",
    "\n",
    "t1 = Teacher()\n",
    "t1.name = 'Alan'\n",
    "greet(t1)\n",
    "s2 = copy.deepcopy(s1)\n",
    "s2.name = 'Bob'\n",
    "greet(s2)"
   ]
  },
  {
   "cell_type": "markdown",
   "metadata": {},
   "source": [
    "### variable scope"
   ]
  },
  {
   "cell_type": "code",
   "execution_count": null,
   "metadata": {},
   "outputs": [],
   "source": [
    "x = 10000 \n",
    "\n",
    "def fun1():\n",
    "    print(\"func1: \", x)\n",
    "    \n",
    "def fun2():\n",
    "    x = 1\n",
    "    print(\"func2: \", x)\n",
    "\n",
    "def fun3():\n",
    "    global x\n",
    "    print(x)\n",
    "    x = 1\n",
    "    print(\"func3: \", x)\n",
    "    \n",
    "fun1()\n",
    "print(\"after fun1: \", x)\n",
    "fun2()\n",
    "print(\"after fun2: \", x)\n",
    "fun3()\n",
    "print(\"after fun2: \", 3)"
   ]
  },
  {
   "cell_type": "markdown",
   "metadata": {},
   "source": [
    "## PEP8 Style Guide for Python Code ([link](https://www.python.org/dev/peps/pep-0008/))"
   ]
  },
  {
   "cell_type": "code",
   "execution_count": null,
   "metadata": {},
   "outputs": [],
   "source": [
    "import this\n",
    "s = this.s\n",
    "d = {}\n",
    "for c in (65, 97):\n",
    "    for i in range(26):\n",
    "        d[chr(i+c)] = chr((i+13) % 26 + c)\n",
    "\n",
    "print(\"\\n\".join((\"\".join([d.get(c, c) for c in s])).split(\"\\n\")[0:5]))"
   ]
  },
  {
   "cell_type": "code",
   "execution_count": null,
   "metadata": {},
   "outputs": [],
   "source": [
    "import antigravity"
   ]
  },
  {
   "cell_type": "markdown",
   "metadata": {},
   "source": [
    "# Big-O"
   ]
  },
  {
   "cell_type": "code",
   "execution_count": null,
   "metadata": {},
   "outputs": [],
   "source": [
    "# O(1)\n",
    "n = 10\n",
    "print(\"Hi, the number is \", n)\n",
    "n = n * 10\n",
    "print(\"Hi, the number is 10 times bigger now\", n)"
   ]
  },
  {
   "cell_type": "code",
   "execution_count": null,
   "metadata": {},
   "outputs": [],
   "source": [
    "# O(n)\n",
    "n = 10\n",
    "for i in range(n):\n",
    "    print(\"index is \", i)"
   ]
  },
  {
   "cell_type": "code",
   "execution_count": null,
   "metadata": {},
   "outputs": [],
   "source": [
    "# O(n^2)\n",
    "n = 10\n",
    "for i in range(n):\n",
    "    for j in range(i,n):\n",
    "        print(\"index is \", i, j)"
   ]
  },
  {
   "cell_type": "code",
   "execution_count": null,
   "metadata": {},
   "outputs": [],
   "source": [
    "# O(logN)\n",
    "# example1\n",
    "n = 100\n",
    "i = 1\n",
    "j = 0\n",
    "while (i < n): \n",
    "    i = i * 2\n",
    "    j = j + 1\n",
    "print(\"final: \", i)\n",
    "print(\"count: \", j)\n",
    "\n",
    "# example2\n",
    "n = 100\n",
    "i = 1\n",
    "j = 0\n",
    "while (i < n): \n",
    "    i = i * 10\n",
    "    j = j + 1\n",
    "print(\"final: \", i)\n",
    "print(\"count: \", j)"
   ]
  },
  {
   "cell_type": "code",
   "execution_count": null,
   "metadata": {},
   "outputs": [],
   "source": [
    "# O(?): O(T*depth) \n",
    "# F(n) = F(n-1) + F(n-2)\n",
    "def fib(n): \n",
    "    if (n < 2):\n",
    "        return n\n",
    "    x = fib(n-1) + fib(n-2)\n",
    "    return x\n",
    "\n",
    "print(\"fib(10): \", fib(10))"
   ]
  },
  {
   "cell_type": "markdown",
   "metadata": {},
   "source": [
    "# Complexity Analysis \n",
    "- best case \n",
    "- worst case \n",
    "- average case \n",
    "- amortized "
   ]
  },
  {
   "cell_type": "code",
   "execution_count": null,
   "metadata": {},
   "outputs": [],
   "source": [
    "def find(l, x):\n",
    "    for i in l: \n",
    "        if i == x: \n",
    "            return True\n",
    "    return False \n",
    "\n",
    "ints = list(range(100))\n",
    "\n",
    "print(\"best case  -   0 in list: \", find(ints, 0))\n",
    "print(\"worst case -  99 in list: \", find(ints, 99))\n",
    "print(\"avg case   -  50 in list: \", find(ints, 50))\n",
    "print(\"avg case   - 100 in list: \", find(ints, 100))"
   ]
  },
  {
   "cell_type": "markdown",
   "metadata": {},
   "source": [
    "# Exercise"
   ]
  },
  {
   "cell_type": "code",
   "execution_count": null,
   "metadata": {},
   "outputs": [],
   "source": []
  }
 ],
 "metadata": {
  "kernelspec": {
   "display_name": "Python 3",
   "language": "python",
   "name": "python3"
  },
  "language_info": {
   "codemirror_mode": {
    "name": "ipython",
    "version": 3
   },
   "file_extension": ".py",
   "mimetype": "text/x-python",
   "name": "python",
   "nbconvert_exporter": "python",
   "pygments_lexer": "ipython3",
   "version": "3.8.5"
  }
 },
 "nbformat": 4,
 "nbformat_minor": 4
}
